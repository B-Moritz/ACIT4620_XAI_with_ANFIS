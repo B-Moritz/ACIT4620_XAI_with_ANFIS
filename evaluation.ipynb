{
 "cells": [
  {
   "cell_type": "markdown",
   "metadata": {},
   "source": [
    "# Evaluation of the TSK model"
   ]
  },
  {
   "cell_type": "markdown",
   "metadata": {},
   "source": [
    "In this notebook the tsk models are tested agains the train and test set from preliminary_analysis.ipynb"
   ]
  },
  {
   "cell_type": "code",
   "execution_count": 1,
   "metadata": {},
   "outputs": [],
   "source": [
    "import pandas as pd\n",
    "import numpy as np\n",
    "import matplotlib.pyplot as plt\n",
    "from tsk_model import TSKModel\n",
    "from pyfume import *\n",
    "import time"
   ]
  },
  {
   "cell_type": "code",
   "execution_count": 2,
   "metadata": {},
   "outputs": [],
   "source": [
    "expressions = {\"P\":\"Precipitation\", \"E\":\"Potential evapotranspiration\", \"PB\":\"Precipation balance\", \"Tave\":\"Tave\"}\n",
    "#selected_features_custom = [\"Relative_yield_change\", \"Latitude\", \"Tmax\", \"Tmin\", \"Longitude\"]\n",
    "#selected_features_pyfume = [\"Latitude\", \"Tmax\", \"Tmin\", \"Longitude\", \"Relative_yield_change\"]\n",
    "#selected_features = ['Relative_yield_change','yield_of_CT', 'Latitude', 'Longitude',\n",
    "#       'Years_since_CT_started', 'Crop_rotation_CT', 'Crop_rotation_NT', 'ST',\n",
    "#       'Soil_cover_in_CT', 'Soil_cover_in_CT', 'Weed_pest_control_CT',\n",
    "#       'Weed_pest_control_NT', 'P', 'E', 'PB', 'Tave', 'Tmax', 'Tmin']\n",
    "\n",
    "# Note that we need copies of the datasets since the two models require different column ordering.\n",
    "selected_features_custom = [\"Relative_yield_change\", 'yield_of_CT', \"Tmax\", \"Tmin\"]\n",
    "selected_features_pyfume = ['yield_of_CT', \"Tmax\", \"Tmin\", \"Relative_yield_change\"]\n",
    "train_data_custom = pd.read_csv(\"dataset/matlab_1_train.csv\")[selected_features_custom]\n",
    "test_data_custom = pd.read_csv(\"dataset/matlab_1_test.csv\")[selected_features_custom]\n",
    "train_data_pyfume = pd.read_csv(\"dataset/matlab_1_train.csv\")[selected_features_pyfume]\n",
    "test_data_pyfume = pd.read_csv(\"dataset/matlab_1_test.csv\")[selected_features_pyfume]"
   ]
  },
  {
   "cell_type": "markdown",
   "metadata": {},
   "source": [
    "Definition of test parameters"
   ]
  },
  {
   "cell_type": "code",
   "execution_count": 3,
   "metadata": {},
   "outputs": [],
   "source": [
    "cluster_numbers = [2, 3, 4, 5, 6, 7, 8, 9, 10]\n",
    "quantile_numbers = [0.2, 0.4, 0.6]\n",
    "n_runs = 20"
   ]
  },
  {
   "cell_type": "code",
   "execution_count": 4,
   "metadata": {},
   "outputs": [
    {
     "data": {
      "text/html": [
       "<div>\n",
       "<style scoped>\n",
       "    .dataframe tbody tr th:only-of-type {\n",
       "        vertical-align: middle;\n",
       "    }\n",
       "\n",
       "    .dataframe tbody tr th {\n",
       "        vertical-align: top;\n",
       "    }\n",
       "\n",
       "    .dataframe thead th {\n",
       "        text-align: right;\n",
       "    }\n",
       "</style>\n",
       "<table border=\"1\" class=\"dataframe\">\n",
       "  <thead>\n",
       "    <tr style=\"text-align: right;\">\n",
       "      <th></th>\n",
       "      <th>yield_of_CT</th>\n",
       "      <th>Tmax</th>\n",
       "      <th>Tmin</th>\n",
       "      <th>Relative_yield_change</th>\n",
       "    </tr>\n",
       "  </thead>\n",
       "  <tbody>\n",
       "    <tr>\n",
       "      <th>0</th>\n",
       "      <td>7900.0</td>\n",
       "      <td>26.45092</td>\n",
       "      <td>2.04168</td>\n",
       "      <td>-0.0759</td>\n",
       "    </tr>\n",
       "    <tr>\n",
       "      <th>1</th>\n",
       "      <td>11756.0</td>\n",
       "      <td>31.98261</td>\n",
       "      <td>-5.42037</td>\n",
       "      <td>-0.1007</td>\n",
       "    </tr>\n",
       "    <tr>\n",
       "      <th>2</th>\n",
       "      <td>6220.0</td>\n",
       "      <td>29.34542</td>\n",
       "      <td>16.69589</td>\n",
       "      <td>0.0492</td>\n",
       "    </tr>\n",
       "    <tr>\n",
       "      <th>3</th>\n",
       "      <td>6407.0</td>\n",
       "      <td>25.88517</td>\n",
       "      <td>12.58576</td>\n",
       "      <td>-0.0924</td>\n",
       "    </tr>\n",
       "    <tr>\n",
       "      <th>4</th>\n",
       "      <td>11240.0</td>\n",
       "      <td>26.37735</td>\n",
       "      <td>2.80240</td>\n",
       "      <td>-0.2278</td>\n",
       "    </tr>\n",
       "    <tr>\n",
       "      <th>...</th>\n",
       "      <td>...</td>\n",
       "      <td>...</td>\n",
       "      <td>...</td>\n",
       "      <td>...</td>\n",
       "    </tr>\n",
       "    <tr>\n",
       "      <th>243</th>\n",
       "      <td>6200.0</td>\n",
       "      <td>31.54964</td>\n",
       "      <td>-0.20791</td>\n",
       "      <td>0.0000</td>\n",
       "    </tr>\n",
       "    <tr>\n",
       "      <th>244</th>\n",
       "      <td>2486.0</td>\n",
       "      <td>30.64233</td>\n",
       "      <td>15.96019</td>\n",
       "      <td>-0.0760</td>\n",
       "    </tr>\n",
       "    <tr>\n",
       "      <th>245</th>\n",
       "      <td>4579.0</td>\n",
       "      <td>33.81494</td>\n",
       "      <td>5.66872</td>\n",
       "      <td>0.2466</td>\n",
       "    </tr>\n",
       "    <tr>\n",
       "      <th>246</th>\n",
       "      <td>14300.0</td>\n",
       "      <td>24.55087</td>\n",
       "      <td>5.82546</td>\n",
       "      <td>-0.2594</td>\n",
       "    </tr>\n",
       "    <tr>\n",
       "      <th>247</th>\n",
       "      <td>9470.0</td>\n",
       "      <td>33.94712</td>\n",
       "      <td>8.06742</td>\n",
       "      <td>-0.5723</td>\n",
       "    </tr>\n",
       "  </tbody>\n",
       "</table>\n",
       "<p>248 rows × 4 columns</p>\n",
       "</div>"
      ],
      "text/plain": [
       "     yield_of_CT      Tmax      Tmin  Relative_yield_change\n",
       "0         7900.0  26.45092   2.04168                -0.0759\n",
       "1        11756.0  31.98261  -5.42037                -0.1007\n",
       "2         6220.0  29.34542  16.69589                 0.0492\n",
       "3         6407.0  25.88517  12.58576                -0.0924\n",
       "4        11240.0  26.37735   2.80240                -0.2278\n",
       "..           ...       ...       ...                    ...\n",
       "243       6200.0  31.54964  -0.20791                 0.0000\n",
       "244       2486.0  30.64233  15.96019                -0.0760\n",
       "245       4579.0  33.81494   5.66872                 0.2466\n",
       "246      14300.0  24.55087   5.82546                -0.2594\n",
       "247       9470.0  33.94712   8.06742                -0.5723\n",
       "\n",
       "[248 rows x 4 columns]"
      ]
     },
     "execution_count": 4,
     "metadata": {},
     "output_type": "execute_result"
    }
   ],
   "source": [
    "test_data_pyfume "
   ]
  },
  {
   "cell_type": "code",
   "execution_count": 5,
   "metadata": {},
   "outputs": [
    {
     "name": "stdout",
     "output_type": "stream",
     "text": [
      "0.20752960204280402\n"
     ]
    }
   ],
   "source": [
    "cur_tsk_model = TSKModel()\n",
    "cur_tsk_model.create_rulebase_kmeans(train_data_custom, n_fuzzy_sets=3, expressions=expressions, trap_quantile=0.5)\n",
    "print(cur_tsk_model.calculate_rmse(train_data_custom))"
   ]
  },
  {
   "cell_type": "code",
   "execution_count": 6,
   "metadata": {},
   "outputs": [
    {
     "data": {
      "text/plain": [
       "1.01574147984159"
      ]
     },
     "execution_count": 6,
     "metadata": {},
     "output_type": "execute_result"
    }
   ],
   "source": [
    "cur_tsk_model.calculate_rmse(train_data_custom+1)"
   ]
  },
  {
   "cell_type": "code",
   "execution_count": 7,
   "metadata": {},
   "outputs": [
    {
     "name": "stdout",
     "output_type": "stream",
     "text": [
      "Starting run 0\n",
      "n_sets = 2\n",
      "n_sets = 3\n",
      "n_sets = 4\n",
      "n_sets = 5\n",
      "n_sets = 6\n",
      "n_sets = 7\n",
      "n_sets = 8\n",
      "n_sets = 9\n",
      "n_sets = 10\n",
      "Starting run 1\n",
      "n_sets = 2\n",
      "n_sets = 3\n",
      "n_sets = 4\n",
      "n_sets = 5\n",
      "n_sets = 6\n",
      "n_sets = 7\n",
      "n_sets = 8\n",
      "n_sets = 9\n",
      "n_sets = 10\n",
      "Starting run 2\n",
      "n_sets = 2\n",
      "n_sets = 3\n",
      "n_sets = 4\n",
      "n_sets = 5\n",
      "n_sets = 6\n",
      "n_sets = 7\n",
      "n_sets = 8\n",
      "n_sets = 9\n",
      "n_sets = 10\n",
      "Starting run 3\n",
      "n_sets = 2\n",
      "n_sets = 3\n",
      "n_sets = 4\n",
      "n_sets = 5\n",
      "n_sets = 6\n",
      "n_sets = 7\n",
      "n_sets = 8\n",
      "n_sets = 9\n",
      "n_sets = 10\n",
      "Starting run 4\n",
      "n_sets = 2\n",
      "n_sets = 3\n",
      "n_sets = 4\n",
      "n_sets = 5\n",
      "n_sets = 6\n",
      "n_sets = 7\n",
      "n_sets = 8\n",
      "n_sets = 9\n",
      "n_sets = 10\n",
      "Starting run 5\n",
      "n_sets = 2\n",
      "n_sets = 3\n",
      "n_sets = 4\n",
      "n_sets = 5\n",
      "n_sets = 6\n",
      "n_sets = 7\n",
      "n_sets = 8\n",
      "n_sets = 9\n",
      "n_sets = 10\n",
      "Starting run 6\n",
      "n_sets = 2\n",
      "n_sets = 3\n",
      "n_sets = 4\n",
      "n_sets = 5\n",
      "n_sets = 6\n",
      "n_sets = 7\n",
      "n_sets = 8\n",
      "n_sets = 9\n",
      "n_sets = 10\n",
      "Starting run 7\n",
      "n_sets = 2\n",
      "n_sets = 3\n",
      "n_sets = 4\n",
      "n_sets = 5\n",
      "n_sets = 6\n",
      "n_sets = 7\n",
      "n_sets = 8\n",
      "n_sets = 9\n",
      "n_sets = 10\n",
      "Starting run 8\n",
      "n_sets = 2\n",
      "n_sets = 3\n",
      "n_sets = 4\n",
      "n_sets = 5\n",
      "n_sets = 6\n",
      "n_sets = 7\n",
      "n_sets = 8\n",
      "n_sets = 9\n",
      "n_sets = 10\n",
      "Starting run 9\n",
      "n_sets = 2\n",
      "n_sets = 3\n",
      "n_sets = 4\n",
      "n_sets = 5\n",
      "n_sets = 6\n",
      "n_sets = 7\n",
      "n_sets = 8\n",
      "n_sets = 9\n",
      "n_sets = 10\n",
      "Starting run 10\n",
      "n_sets = 2\n",
      "n_sets = 3\n",
      "n_sets = 4\n",
      "n_sets = 5\n",
      "n_sets = 6\n",
      "n_sets = 7\n",
      "n_sets = 8\n",
      "n_sets = 9\n",
      "n_sets = 10\n",
      "Starting run 11\n",
      "n_sets = 2\n",
      "n_sets = 3\n",
      "n_sets = 4\n",
      "n_sets = 5\n",
      "n_sets = 6\n",
      "n_sets = 7\n",
      "n_sets = 8\n",
      "n_sets = 9\n",
      "n_sets = 10\n",
      "Starting run 12\n",
      "n_sets = 2\n",
      "n_sets = 3\n",
      "n_sets = 4\n",
      "n_sets = 5\n",
      "n_sets = 6\n",
      "n_sets = 7\n",
      "n_sets = 8\n",
      "n_sets = 9\n",
      "n_sets = 10\n",
      "Starting run 13\n",
      "n_sets = 2\n",
      "n_sets = 3\n",
      "n_sets = 4\n",
      "n_sets = 5\n",
      "n_sets = 6\n",
      "n_sets = 7\n",
      "n_sets = 8\n",
      "n_sets = 9\n",
      "n_sets = 10\n",
      "Starting run 14\n",
      "n_sets = 2\n",
      "n_sets = 3\n",
      "n_sets = 4\n",
      "n_sets = 5\n",
      "n_sets = 6\n",
      "n_sets = 7\n",
      "n_sets = 8\n",
      "n_sets = 9\n",
      "n_sets = 10\n",
      "Starting run 15\n",
      "n_sets = 2\n",
      "n_sets = 3\n",
      "n_sets = 4\n",
      "n_sets = 5\n",
      "n_sets = 6\n",
      "n_sets = 7\n",
      "n_sets = 8\n",
      "n_sets = 9\n",
      "n_sets = 10\n",
      "Starting run 16\n",
      "n_sets = 2\n",
      "n_sets = 3\n",
      "n_sets = 4\n",
      "n_sets = 5\n",
      "n_sets = 6\n",
      "n_sets = 7\n",
      "n_sets = 8\n",
      "n_sets = 9\n",
      "n_sets = 10\n",
      "Starting run 17\n",
      "n_sets = 2\n",
      "n_sets = 3\n",
      "n_sets = 4\n",
      "n_sets = 5\n",
      "n_sets = 6\n",
      "n_sets = 7\n",
      "n_sets = 8\n",
      "n_sets = 9\n",
      "n_sets = 10\n",
      "Starting run 18\n",
      "n_sets = 2\n",
      "n_sets = 3\n",
      "n_sets = 4\n",
      "n_sets = 5\n",
      "n_sets = 6\n",
      "n_sets = 7\n",
      "n_sets = 8\n",
      "n_sets = 9\n",
      "n_sets = 10\n",
      "Starting run 19\n",
      "n_sets = 2\n",
      "n_sets = 3\n",
      "n_sets = 4\n",
      "n_sets = 5\n",
      "n_sets = 6\n",
      "n_sets = 7\n",
      "n_sets = 8\n",
      "n_sets = 9\n",
      "n_sets = 10\n"
     ]
    }
   ],
   "source": [
    "cluster_list_pyfume_training = [[] for n_sets in cluster_numbers]\n",
    "cluster_list_pyfume_test = [[] for n_sets in cluster_numbers]\n",
    "pyfume_timer = time.time()\n",
    "for run in range(n_runs):\n",
    "     print(f\"Starting run {run}\")\n",
    "     cur_clusters_pyfume = {}\n",
    "     cur_clusters_custom = {}\n",
    "     for i, n_fuzzy_sets in enumerate(cluster_numbers):\n",
    "          print(f\"n_sets = {n_fuzzy_sets}\")\n",
    "          FIS = pyFUME(dataframe=train_data_pyfume, nr_clus=n_fuzzy_sets)\n",
    "          cur_model = FIS.get_model()\n",
    "          cluster_list_pyfume_training[i].append(FIS.calculate_error(method=\"RMSE\"))\n",
    "\n",
    "          test = SugenoFISTester(model=cur_model, test_data=test_data_pyfume.iloc[:,:-1].to_numpy(), \n",
    "                                 variable_names=np.array(selected_features_pyfume[:-1], dtype='<U22'),\n",
    "                                 golden_standard=test_data_pyfume.iloc[:,-1].to_numpy())\n",
    "          cluster_list_pyfume_test[i].append(test.calculate_RMSE())\n",
    "               \n",
    "pyfume_timer = time.time() - pyfume_timer"
   ]
  },
  {
   "cell_type": "code",
   "execution_count": 8,
   "metadata": {},
   "outputs": [
    {
     "name": "stdout",
     "output_type": "stream",
     "text": [
      "Starting run 0\n",
      "n_sets = 2\n",
      "n_sets = 3\n",
      "n_sets = 4\n",
      "n_sets = 5\n",
      "n_sets = 6\n"
     ]
    },
    {
     "name": "stderr",
     "output_type": "stream",
     "text": [
      "c:\\Users\\b-mor\\ACIT4620_XAI_with_ANFIS\\anfis_env\\lib\\site-packages\\sklearn\\metrics\\_regression.py:996: UndefinedMetricWarning: R^2 score is not well-defined with less than two samples.\n",
      "  warnings.warn(msg, UndefinedMetricWarning)\n",
      "c:\\Users\\b-mor\\ACIT4620_XAI_with_ANFIS\\anfis_env\\lib\\site-packages\\sklearn\\metrics\\_regression.py:996: UndefinedMetricWarning: R^2 score is not well-defined with less than two samples.\n",
      "  warnings.warn(msg, UndefinedMetricWarning)\n",
      "c:\\Users\\b-mor\\ACIT4620_XAI_with_ANFIS\\anfis_env\\lib\\site-packages\\sklearn\\metrics\\_regression.py:996: UndefinedMetricWarning: R^2 score is not well-defined with less than two samples.\n",
      "  warnings.warn(msg, UndefinedMetricWarning)\n"
     ]
    },
    {
     "name": "stdout",
     "output_type": "stream",
     "text": [
      "n_sets = 7\n"
     ]
    },
    {
     "name": "stderr",
     "output_type": "stream",
     "text": [
      "c:\\Users\\b-mor\\ACIT4620_XAI_with_ANFIS\\anfis_env\\lib\\site-packages\\sklearn\\metrics\\_regression.py:996: UndefinedMetricWarning: R^2 score is not well-defined with less than two samples.\n",
      "  warnings.warn(msg, UndefinedMetricWarning)\n",
      "c:\\Users\\b-mor\\ACIT4620_XAI_with_ANFIS\\anfis_env\\lib\\site-packages\\sklearn\\metrics\\_regression.py:996: UndefinedMetricWarning: R^2 score is not well-defined with less than two samples.\n",
      "  warnings.warn(msg, UndefinedMetricWarning)\n",
      "c:\\Users\\b-mor\\ACIT4620_XAI_with_ANFIS\\anfis_env\\lib\\site-packages\\sklearn\\metrics\\_regression.py:996: UndefinedMetricWarning: R^2 score is not well-defined with less than two samples.\n",
      "  warnings.warn(msg, UndefinedMetricWarning)\n"
     ]
    },
    {
     "name": "stdout",
     "output_type": "stream",
     "text": [
      "n_sets = 8\n"
     ]
    },
    {
     "name": "stderr",
     "output_type": "stream",
     "text": [
      "c:\\Users\\b-mor\\ACIT4620_XAI_with_ANFIS\\anfis_env\\lib\\site-packages\\sklearn\\metrics\\_regression.py:996: UndefinedMetricWarning: R^2 score is not well-defined with less than two samples.\n",
      "  warnings.warn(msg, UndefinedMetricWarning)\n",
      "c:\\Users\\b-mor\\ACIT4620_XAI_with_ANFIS\\anfis_env\\lib\\site-packages\\sklearn\\metrics\\_regression.py:996: UndefinedMetricWarning: R^2 score is not well-defined with less than two samples.\n",
      "  warnings.warn(msg, UndefinedMetricWarning)\n",
      "c:\\Users\\b-mor\\ACIT4620_XAI_with_ANFIS\\anfis_env\\lib\\site-packages\\sklearn\\metrics\\_regression.py:996: UndefinedMetricWarning: R^2 score is not well-defined with less than two samples.\n",
      "  warnings.warn(msg, UndefinedMetricWarning)\n"
     ]
    },
    {
     "name": "stdout",
     "output_type": "stream",
     "text": [
      "n_sets = 9\n"
     ]
    },
    {
     "name": "stderr",
     "output_type": "stream",
     "text": [
      "c:\\Users\\b-mor\\ACIT4620_XAI_with_ANFIS\\anfis_env\\lib\\site-packages\\sklearn\\metrics\\_regression.py:996: UndefinedMetricWarning: R^2 score is not well-defined with less than two samples.\n",
      "  warnings.warn(msg, UndefinedMetricWarning)\n",
      "c:\\Users\\b-mor\\ACIT4620_XAI_with_ANFIS\\anfis_env\\lib\\site-packages\\sklearn\\metrics\\_regression.py:996: UndefinedMetricWarning: R^2 score is not well-defined with less than two samples.\n",
      "  warnings.warn(msg, UndefinedMetricWarning)\n",
      "c:\\Users\\b-mor\\ACIT4620_XAI_with_ANFIS\\anfis_env\\lib\\site-packages\\sklearn\\metrics\\_regression.py:996: UndefinedMetricWarning: R^2 score is not well-defined with less than two samples.\n",
      "  warnings.warn(msg, UndefinedMetricWarning)\n"
     ]
    },
    {
     "name": "stdout",
     "output_type": "stream",
     "text": [
      "n_sets = 10\n"
     ]
    },
    {
     "name": "stderr",
     "output_type": "stream",
     "text": [
      "c:\\Users\\b-mor\\ACIT4620_XAI_with_ANFIS\\anfis_env\\lib\\site-packages\\sklearn\\metrics\\_regression.py:996: UndefinedMetricWarning: R^2 score is not well-defined with less than two samples.\n",
      "  warnings.warn(msg, UndefinedMetricWarning)\n",
      "c:\\Users\\b-mor\\ACIT4620_XAI_with_ANFIS\\anfis_env\\lib\\site-packages\\sklearn\\metrics\\_regression.py:996: UndefinedMetricWarning: R^2 score is not well-defined with less than two samples.\n",
      "  warnings.warn(msg, UndefinedMetricWarning)\n",
      "c:\\Users\\b-mor\\ACIT4620_XAI_with_ANFIS\\anfis_env\\lib\\site-packages\\sklearn\\metrics\\_regression.py:996: UndefinedMetricWarning: R^2 score is not well-defined with less than two samples.\n",
      "  warnings.warn(msg, UndefinedMetricWarning)\n"
     ]
    },
    {
     "name": "stdout",
     "output_type": "stream",
     "text": [
      "Starting run 1\n",
      "n_sets = 2\n",
      "n_sets = 3\n",
      "n_sets = 4\n",
      "n_sets = 5\n",
      "n_sets = 6\n"
     ]
    },
    {
     "name": "stderr",
     "output_type": "stream",
     "text": [
      "c:\\Users\\b-mor\\ACIT4620_XAI_with_ANFIS\\anfis_env\\lib\\site-packages\\sklearn\\metrics\\_regression.py:996: UndefinedMetricWarning: R^2 score is not well-defined with less than two samples.\n",
      "  warnings.warn(msg, UndefinedMetricWarning)\n",
      "c:\\Users\\b-mor\\ACIT4620_XAI_with_ANFIS\\anfis_env\\lib\\site-packages\\sklearn\\metrics\\_regression.py:996: UndefinedMetricWarning: R^2 score is not well-defined with less than two samples.\n",
      "  warnings.warn(msg, UndefinedMetricWarning)\n",
      "c:\\Users\\b-mor\\ACIT4620_XAI_with_ANFIS\\anfis_env\\lib\\site-packages\\sklearn\\metrics\\_regression.py:996: UndefinedMetricWarning: R^2 score is not well-defined with less than two samples.\n",
      "  warnings.warn(msg, UndefinedMetricWarning)\n"
     ]
    },
    {
     "name": "stdout",
     "output_type": "stream",
     "text": [
      "n_sets = 7\n"
     ]
    },
    {
     "name": "stderr",
     "output_type": "stream",
     "text": [
      "c:\\Users\\b-mor\\ACIT4620_XAI_with_ANFIS\\anfis_env\\lib\\site-packages\\sklearn\\metrics\\_regression.py:996: UndefinedMetricWarning: R^2 score is not well-defined with less than two samples.\n",
      "  warnings.warn(msg, UndefinedMetricWarning)\n",
      "c:\\Users\\b-mor\\ACIT4620_XAI_with_ANFIS\\anfis_env\\lib\\site-packages\\sklearn\\metrics\\_regression.py:996: UndefinedMetricWarning: R^2 score is not well-defined with less than two samples.\n",
      "  warnings.warn(msg, UndefinedMetricWarning)\n",
      "c:\\Users\\b-mor\\ACIT4620_XAI_with_ANFIS\\anfis_env\\lib\\site-packages\\sklearn\\metrics\\_regression.py:996: UndefinedMetricWarning: R^2 score is not well-defined with less than two samples.\n",
      "  warnings.warn(msg, UndefinedMetricWarning)\n"
     ]
    },
    {
     "name": "stdout",
     "output_type": "stream",
     "text": [
      "n_sets = 8\n"
     ]
    },
    {
     "name": "stderr",
     "output_type": "stream",
     "text": [
      "c:\\Users\\b-mor\\ACIT4620_XAI_with_ANFIS\\anfis_env\\lib\\site-packages\\sklearn\\metrics\\_regression.py:996: UndefinedMetricWarning: R^2 score is not well-defined with less than two samples.\n",
      "  warnings.warn(msg, UndefinedMetricWarning)\n",
      "c:\\Users\\b-mor\\ACIT4620_XAI_with_ANFIS\\anfis_env\\lib\\site-packages\\sklearn\\metrics\\_regression.py:996: UndefinedMetricWarning: R^2 score is not well-defined with less than two samples.\n",
      "  warnings.warn(msg, UndefinedMetricWarning)\n",
      "c:\\Users\\b-mor\\ACIT4620_XAI_with_ANFIS\\anfis_env\\lib\\site-packages\\sklearn\\metrics\\_regression.py:996: UndefinedMetricWarning: R^2 score is not well-defined with less than two samples.\n",
      "  warnings.warn(msg, UndefinedMetricWarning)\n"
     ]
    },
    {
     "name": "stdout",
     "output_type": "stream",
     "text": [
      "n_sets = 9\n"
     ]
    },
    {
     "name": "stderr",
     "output_type": "stream",
     "text": [
      "c:\\Users\\b-mor\\ACIT4620_XAI_with_ANFIS\\anfis_env\\lib\\site-packages\\sklearn\\metrics\\_regression.py:996: UndefinedMetricWarning: R^2 score is not well-defined with less than two samples.\n",
      "  warnings.warn(msg, UndefinedMetricWarning)\n",
      "c:\\Users\\b-mor\\ACIT4620_XAI_with_ANFIS\\anfis_env\\lib\\site-packages\\sklearn\\metrics\\_regression.py:996: UndefinedMetricWarning: R^2 score is not well-defined with less than two samples.\n",
      "  warnings.warn(msg, UndefinedMetricWarning)\n",
      "c:\\Users\\b-mor\\ACIT4620_XAI_with_ANFIS\\anfis_env\\lib\\site-packages\\sklearn\\metrics\\_regression.py:996: UndefinedMetricWarning: R^2 score is not well-defined with less than two samples.\n",
      "  warnings.warn(msg, UndefinedMetricWarning)\n"
     ]
    },
    {
     "name": "stdout",
     "output_type": "stream",
     "text": [
      "n_sets = 10\n"
     ]
    },
    {
     "name": "stderr",
     "output_type": "stream",
     "text": [
      "c:\\Users\\b-mor\\ACIT4620_XAI_with_ANFIS\\anfis_env\\lib\\site-packages\\sklearn\\metrics\\_regression.py:996: UndefinedMetricWarning: R^2 score is not well-defined with less than two samples.\n",
      "  warnings.warn(msg, UndefinedMetricWarning)\n",
      "c:\\Users\\b-mor\\ACIT4620_XAI_with_ANFIS\\anfis_env\\lib\\site-packages\\sklearn\\metrics\\_regression.py:996: UndefinedMetricWarning: R^2 score is not well-defined with less than two samples.\n",
      "  warnings.warn(msg, UndefinedMetricWarning)\n",
      "c:\\Users\\b-mor\\ACIT4620_XAI_with_ANFIS\\anfis_env\\lib\\site-packages\\sklearn\\metrics\\_regression.py:996: UndefinedMetricWarning: R^2 score is not well-defined with less than two samples.\n",
      "  warnings.warn(msg, UndefinedMetricWarning)\n"
     ]
    },
    {
     "name": "stdout",
     "output_type": "stream",
     "text": [
      "Starting run 2\n",
      "n_sets = 2\n",
      "n_sets = 3\n",
      "n_sets = 4\n",
      "n_sets = 5\n",
      "n_sets = 6\n"
     ]
    },
    {
     "name": "stderr",
     "output_type": "stream",
     "text": [
      "c:\\Users\\b-mor\\ACIT4620_XAI_with_ANFIS\\anfis_env\\lib\\site-packages\\sklearn\\metrics\\_regression.py:996: UndefinedMetricWarning: R^2 score is not well-defined with less than two samples.\n",
      "  warnings.warn(msg, UndefinedMetricWarning)\n",
      "c:\\Users\\b-mor\\ACIT4620_XAI_with_ANFIS\\anfis_env\\lib\\site-packages\\sklearn\\metrics\\_regression.py:996: UndefinedMetricWarning: R^2 score is not well-defined with less than two samples.\n",
      "  warnings.warn(msg, UndefinedMetricWarning)\n",
      "c:\\Users\\b-mor\\ACIT4620_XAI_with_ANFIS\\anfis_env\\lib\\site-packages\\sklearn\\metrics\\_regression.py:996: UndefinedMetricWarning: R^2 score is not well-defined with less than two samples.\n",
      "  warnings.warn(msg, UndefinedMetricWarning)\n"
     ]
    },
    {
     "name": "stdout",
     "output_type": "stream",
     "text": [
      "n_sets = 7\n"
     ]
    },
    {
     "name": "stderr",
     "output_type": "stream",
     "text": [
      "c:\\Users\\b-mor\\ACIT4620_XAI_with_ANFIS\\anfis_env\\lib\\site-packages\\sklearn\\metrics\\_regression.py:996: UndefinedMetricWarning: R^2 score is not well-defined with less than two samples.\n",
      "  warnings.warn(msg, UndefinedMetricWarning)\n",
      "c:\\Users\\b-mor\\ACIT4620_XAI_with_ANFIS\\anfis_env\\lib\\site-packages\\sklearn\\metrics\\_regression.py:996: UndefinedMetricWarning: R^2 score is not well-defined with less than two samples.\n",
      "  warnings.warn(msg, UndefinedMetricWarning)\n",
      "c:\\Users\\b-mor\\ACIT4620_XAI_with_ANFIS\\anfis_env\\lib\\site-packages\\sklearn\\metrics\\_regression.py:996: UndefinedMetricWarning: R^2 score is not well-defined with less than two samples.\n",
      "  warnings.warn(msg, UndefinedMetricWarning)\n"
     ]
    },
    {
     "name": "stdout",
     "output_type": "stream",
     "text": [
      "n_sets = 8\n"
     ]
    },
    {
     "name": "stderr",
     "output_type": "stream",
     "text": [
      "c:\\Users\\b-mor\\ACIT4620_XAI_with_ANFIS\\anfis_env\\lib\\site-packages\\sklearn\\metrics\\_regression.py:996: UndefinedMetricWarning: R^2 score is not well-defined with less than two samples.\n",
      "  warnings.warn(msg, UndefinedMetricWarning)\n",
      "c:\\Users\\b-mor\\ACIT4620_XAI_with_ANFIS\\anfis_env\\lib\\site-packages\\sklearn\\metrics\\_regression.py:996: UndefinedMetricWarning: R^2 score is not well-defined with less than two samples.\n",
      "  warnings.warn(msg, UndefinedMetricWarning)\n",
      "c:\\Users\\b-mor\\ACIT4620_XAI_with_ANFIS\\anfis_env\\lib\\site-packages\\sklearn\\metrics\\_regression.py:996: UndefinedMetricWarning: R^2 score is not well-defined with less than two samples.\n",
      "  warnings.warn(msg, UndefinedMetricWarning)\n"
     ]
    },
    {
     "name": "stdout",
     "output_type": "stream",
     "text": [
      "n_sets = 9\n"
     ]
    },
    {
     "name": "stderr",
     "output_type": "stream",
     "text": [
      "c:\\Users\\b-mor\\ACIT4620_XAI_with_ANFIS\\anfis_env\\lib\\site-packages\\sklearn\\metrics\\_regression.py:996: UndefinedMetricWarning: R^2 score is not well-defined with less than two samples.\n",
      "  warnings.warn(msg, UndefinedMetricWarning)\n",
      "c:\\Users\\b-mor\\ACIT4620_XAI_with_ANFIS\\anfis_env\\lib\\site-packages\\sklearn\\metrics\\_regression.py:996: UndefinedMetricWarning: R^2 score is not well-defined with less than two samples.\n",
      "  warnings.warn(msg, UndefinedMetricWarning)\n",
      "c:\\Users\\b-mor\\ACIT4620_XAI_with_ANFIS\\anfis_env\\lib\\site-packages\\sklearn\\metrics\\_regression.py:996: UndefinedMetricWarning: R^2 score is not well-defined with less than two samples.\n",
      "  warnings.warn(msg, UndefinedMetricWarning)\n"
     ]
    },
    {
     "name": "stdout",
     "output_type": "stream",
     "text": [
      "n_sets = 10\n"
     ]
    },
    {
     "name": "stderr",
     "output_type": "stream",
     "text": [
      "c:\\Users\\b-mor\\ACIT4620_XAI_with_ANFIS\\anfis_env\\lib\\site-packages\\sklearn\\metrics\\_regression.py:996: UndefinedMetricWarning: R^2 score is not well-defined with less than two samples.\n",
      "  warnings.warn(msg, UndefinedMetricWarning)\n",
      "c:\\Users\\b-mor\\ACIT4620_XAI_with_ANFIS\\anfis_env\\lib\\site-packages\\sklearn\\metrics\\_regression.py:996: UndefinedMetricWarning: R^2 score is not well-defined with less than two samples.\n",
      "  warnings.warn(msg, UndefinedMetricWarning)\n",
      "c:\\Users\\b-mor\\ACIT4620_XAI_with_ANFIS\\anfis_env\\lib\\site-packages\\sklearn\\metrics\\_regression.py:996: UndefinedMetricWarning: R^2 score is not well-defined with less than two samples.\n",
      "  warnings.warn(msg, UndefinedMetricWarning)\n"
     ]
    },
    {
     "name": "stdout",
     "output_type": "stream",
     "text": [
      "Starting run 3\n",
      "n_sets = 2\n",
      "n_sets = 3\n",
      "n_sets = 4\n",
      "n_sets = 5\n",
      "n_sets = 6\n"
     ]
    },
    {
     "name": "stderr",
     "output_type": "stream",
     "text": [
      "c:\\Users\\b-mor\\ACIT4620_XAI_with_ANFIS\\anfis_env\\lib\\site-packages\\sklearn\\metrics\\_regression.py:996: UndefinedMetricWarning: R^2 score is not well-defined with less than two samples.\n",
      "  warnings.warn(msg, UndefinedMetricWarning)\n",
      "c:\\Users\\b-mor\\ACIT4620_XAI_with_ANFIS\\anfis_env\\lib\\site-packages\\sklearn\\metrics\\_regression.py:996: UndefinedMetricWarning: R^2 score is not well-defined with less than two samples.\n",
      "  warnings.warn(msg, UndefinedMetricWarning)\n",
      "c:\\Users\\b-mor\\ACIT4620_XAI_with_ANFIS\\anfis_env\\lib\\site-packages\\sklearn\\metrics\\_regression.py:996: UndefinedMetricWarning: R^2 score is not well-defined with less than two samples.\n",
      "  warnings.warn(msg, UndefinedMetricWarning)\n"
     ]
    },
    {
     "name": "stdout",
     "output_type": "stream",
     "text": [
      "n_sets = 7\n"
     ]
    },
    {
     "name": "stderr",
     "output_type": "stream",
     "text": [
      "c:\\Users\\b-mor\\ACIT4620_XAI_with_ANFIS\\anfis_env\\lib\\site-packages\\sklearn\\metrics\\_regression.py:996: UndefinedMetricWarning: R^2 score is not well-defined with less than two samples.\n",
      "  warnings.warn(msg, UndefinedMetricWarning)\n",
      "c:\\Users\\b-mor\\ACIT4620_XAI_with_ANFIS\\anfis_env\\lib\\site-packages\\sklearn\\metrics\\_regression.py:996: UndefinedMetricWarning: R^2 score is not well-defined with less than two samples.\n",
      "  warnings.warn(msg, UndefinedMetricWarning)\n",
      "c:\\Users\\b-mor\\ACIT4620_XAI_with_ANFIS\\anfis_env\\lib\\site-packages\\sklearn\\metrics\\_regression.py:996: UndefinedMetricWarning: R^2 score is not well-defined with less than two samples.\n",
      "  warnings.warn(msg, UndefinedMetricWarning)\n"
     ]
    },
    {
     "name": "stdout",
     "output_type": "stream",
     "text": [
      "n_sets = 8\n"
     ]
    },
    {
     "name": "stderr",
     "output_type": "stream",
     "text": [
      "c:\\Users\\b-mor\\ACIT4620_XAI_with_ANFIS\\anfis_env\\lib\\site-packages\\sklearn\\metrics\\_regression.py:996: UndefinedMetricWarning: R^2 score is not well-defined with less than two samples.\n",
      "  warnings.warn(msg, UndefinedMetricWarning)\n",
      "c:\\Users\\b-mor\\ACIT4620_XAI_with_ANFIS\\anfis_env\\lib\\site-packages\\sklearn\\metrics\\_regression.py:996: UndefinedMetricWarning: R^2 score is not well-defined with less than two samples.\n",
      "  warnings.warn(msg, UndefinedMetricWarning)\n",
      "c:\\Users\\b-mor\\ACIT4620_XAI_with_ANFIS\\anfis_env\\lib\\site-packages\\sklearn\\metrics\\_regression.py:996: UndefinedMetricWarning: R^2 score is not well-defined with less than two samples.\n",
      "  warnings.warn(msg, UndefinedMetricWarning)\n"
     ]
    },
    {
     "name": "stdout",
     "output_type": "stream",
     "text": [
      "n_sets = 9\n"
     ]
    },
    {
     "name": "stderr",
     "output_type": "stream",
     "text": [
      "c:\\Users\\b-mor\\ACIT4620_XAI_with_ANFIS\\anfis_env\\lib\\site-packages\\sklearn\\metrics\\_regression.py:996: UndefinedMetricWarning: R^2 score is not well-defined with less than two samples.\n",
      "  warnings.warn(msg, UndefinedMetricWarning)\n",
      "c:\\Users\\b-mor\\ACIT4620_XAI_with_ANFIS\\anfis_env\\lib\\site-packages\\sklearn\\metrics\\_regression.py:996: UndefinedMetricWarning: R^2 score is not well-defined with less than two samples.\n",
      "  warnings.warn(msg, UndefinedMetricWarning)\n",
      "c:\\Users\\b-mor\\ACIT4620_XAI_with_ANFIS\\anfis_env\\lib\\site-packages\\sklearn\\metrics\\_regression.py:996: UndefinedMetricWarning: R^2 score is not well-defined with less than two samples.\n",
      "  warnings.warn(msg, UndefinedMetricWarning)\n"
     ]
    },
    {
     "name": "stdout",
     "output_type": "stream",
     "text": [
      "n_sets = 10\n"
     ]
    },
    {
     "name": "stderr",
     "output_type": "stream",
     "text": [
      "c:\\Users\\b-mor\\ACIT4620_XAI_with_ANFIS\\anfis_env\\lib\\site-packages\\sklearn\\metrics\\_regression.py:996: UndefinedMetricWarning: R^2 score is not well-defined with less than two samples.\n",
      "  warnings.warn(msg, UndefinedMetricWarning)\n",
      "c:\\Users\\b-mor\\ACIT4620_XAI_with_ANFIS\\anfis_env\\lib\\site-packages\\sklearn\\metrics\\_regression.py:996: UndefinedMetricWarning: R^2 score is not well-defined with less than two samples.\n",
      "  warnings.warn(msg, UndefinedMetricWarning)\n",
      "c:\\Users\\b-mor\\ACIT4620_XAI_with_ANFIS\\anfis_env\\lib\\site-packages\\sklearn\\metrics\\_regression.py:996: UndefinedMetricWarning: R^2 score is not well-defined with less than two samples.\n",
      "  warnings.warn(msg, UndefinedMetricWarning)\n"
     ]
    },
    {
     "name": "stdout",
     "output_type": "stream",
     "text": [
      "Starting run 4\n",
      "n_sets = 2\n",
      "n_sets = 3\n",
      "n_sets = 4\n",
      "n_sets = 5\n",
      "n_sets = 6\n"
     ]
    },
    {
     "name": "stderr",
     "output_type": "stream",
     "text": [
      "c:\\Users\\b-mor\\ACIT4620_XAI_with_ANFIS\\anfis_env\\lib\\site-packages\\sklearn\\metrics\\_regression.py:996: UndefinedMetricWarning: R^2 score is not well-defined with less than two samples.\n",
      "  warnings.warn(msg, UndefinedMetricWarning)\n",
      "c:\\Users\\b-mor\\ACIT4620_XAI_with_ANFIS\\anfis_env\\lib\\site-packages\\sklearn\\metrics\\_regression.py:996: UndefinedMetricWarning: R^2 score is not well-defined with less than two samples.\n",
      "  warnings.warn(msg, UndefinedMetricWarning)\n",
      "c:\\Users\\b-mor\\ACIT4620_XAI_with_ANFIS\\anfis_env\\lib\\site-packages\\sklearn\\metrics\\_regression.py:996: UndefinedMetricWarning: R^2 score is not well-defined with less than two samples.\n",
      "  warnings.warn(msg, UndefinedMetricWarning)\n"
     ]
    },
    {
     "name": "stdout",
     "output_type": "stream",
     "text": [
      "n_sets = 7\n"
     ]
    },
    {
     "name": "stderr",
     "output_type": "stream",
     "text": [
      "c:\\Users\\b-mor\\ACIT4620_XAI_with_ANFIS\\anfis_env\\lib\\site-packages\\sklearn\\metrics\\_regression.py:996: UndefinedMetricWarning: R^2 score is not well-defined with less than two samples.\n",
      "  warnings.warn(msg, UndefinedMetricWarning)\n",
      "c:\\Users\\b-mor\\ACIT4620_XAI_with_ANFIS\\anfis_env\\lib\\site-packages\\sklearn\\metrics\\_regression.py:996: UndefinedMetricWarning: R^2 score is not well-defined with less than two samples.\n",
      "  warnings.warn(msg, UndefinedMetricWarning)\n",
      "c:\\Users\\b-mor\\ACIT4620_XAI_with_ANFIS\\anfis_env\\lib\\site-packages\\sklearn\\metrics\\_regression.py:996: UndefinedMetricWarning: R^2 score is not well-defined with less than two samples.\n",
      "  warnings.warn(msg, UndefinedMetricWarning)\n"
     ]
    },
    {
     "name": "stdout",
     "output_type": "stream",
     "text": [
      "n_sets = 8\n"
     ]
    },
    {
     "name": "stderr",
     "output_type": "stream",
     "text": [
      "c:\\Users\\b-mor\\ACIT4620_XAI_with_ANFIS\\anfis_env\\lib\\site-packages\\sklearn\\metrics\\_regression.py:996: UndefinedMetricWarning: R^2 score is not well-defined with less than two samples.\n",
      "  warnings.warn(msg, UndefinedMetricWarning)\n",
      "c:\\Users\\b-mor\\ACIT4620_XAI_with_ANFIS\\anfis_env\\lib\\site-packages\\sklearn\\metrics\\_regression.py:996: UndefinedMetricWarning: R^2 score is not well-defined with less than two samples.\n",
      "  warnings.warn(msg, UndefinedMetricWarning)\n",
      "c:\\Users\\b-mor\\ACIT4620_XAI_with_ANFIS\\anfis_env\\lib\\site-packages\\sklearn\\metrics\\_regression.py:996: UndefinedMetricWarning: R^2 score is not well-defined with less than two samples.\n",
      "  warnings.warn(msg, UndefinedMetricWarning)\n"
     ]
    },
    {
     "name": "stdout",
     "output_type": "stream",
     "text": [
      "n_sets = 9\n"
     ]
    },
    {
     "name": "stderr",
     "output_type": "stream",
     "text": [
      "c:\\Users\\b-mor\\ACIT4620_XAI_with_ANFIS\\anfis_env\\lib\\site-packages\\sklearn\\metrics\\_regression.py:996: UndefinedMetricWarning: R^2 score is not well-defined with less than two samples.\n",
      "  warnings.warn(msg, UndefinedMetricWarning)\n",
      "c:\\Users\\b-mor\\ACIT4620_XAI_with_ANFIS\\anfis_env\\lib\\site-packages\\sklearn\\metrics\\_regression.py:996: UndefinedMetricWarning: R^2 score is not well-defined with less than two samples.\n",
      "  warnings.warn(msg, UndefinedMetricWarning)\n",
      "c:\\Users\\b-mor\\ACIT4620_XAI_with_ANFIS\\anfis_env\\lib\\site-packages\\sklearn\\metrics\\_regression.py:996: UndefinedMetricWarning: R^2 score is not well-defined with less than two samples.\n",
      "  warnings.warn(msg, UndefinedMetricWarning)\n"
     ]
    },
    {
     "name": "stdout",
     "output_type": "stream",
     "text": [
      "n_sets = 10\n"
     ]
    },
    {
     "name": "stderr",
     "output_type": "stream",
     "text": [
      "c:\\Users\\b-mor\\ACIT4620_XAI_with_ANFIS\\anfis_env\\lib\\site-packages\\sklearn\\metrics\\_regression.py:996: UndefinedMetricWarning: R^2 score is not well-defined with less than two samples.\n",
      "  warnings.warn(msg, UndefinedMetricWarning)\n",
      "c:\\Users\\b-mor\\ACIT4620_XAI_with_ANFIS\\anfis_env\\lib\\site-packages\\sklearn\\metrics\\_regression.py:996: UndefinedMetricWarning: R^2 score is not well-defined with less than two samples.\n",
      "  warnings.warn(msg, UndefinedMetricWarning)\n",
      "c:\\Users\\b-mor\\ACIT4620_XAI_with_ANFIS\\anfis_env\\lib\\site-packages\\sklearn\\metrics\\_regression.py:996: UndefinedMetricWarning: R^2 score is not well-defined with less than two samples.\n",
      "  warnings.warn(msg, UndefinedMetricWarning)\n"
     ]
    },
    {
     "name": "stdout",
     "output_type": "stream",
     "text": [
      "Starting run 5\n",
      "n_sets = 2\n",
      "n_sets = 3\n",
      "n_sets = 4\n",
      "n_sets = 5\n",
      "n_sets = 6\n"
     ]
    },
    {
     "name": "stderr",
     "output_type": "stream",
     "text": [
      "c:\\Users\\b-mor\\ACIT4620_XAI_with_ANFIS\\anfis_env\\lib\\site-packages\\sklearn\\metrics\\_regression.py:996: UndefinedMetricWarning: R^2 score is not well-defined with less than two samples.\n",
      "  warnings.warn(msg, UndefinedMetricWarning)\n",
      "c:\\Users\\b-mor\\ACIT4620_XAI_with_ANFIS\\anfis_env\\lib\\site-packages\\sklearn\\metrics\\_regression.py:996: UndefinedMetricWarning: R^2 score is not well-defined with less than two samples.\n",
      "  warnings.warn(msg, UndefinedMetricWarning)\n",
      "c:\\Users\\b-mor\\ACIT4620_XAI_with_ANFIS\\anfis_env\\lib\\site-packages\\sklearn\\metrics\\_regression.py:996: UndefinedMetricWarning: R^2 score is not well-defined with less than two samples.\n",
      "  warnings.warn(msg, UndefinedMetricWarning)\n"
     ]
    },
    {
     "name": "stdout",
     "output_type": "stream",
     "text": [
      "n_sets = 7\n"
     ]
    },
    {
     "name": "stderr",
     "output_type": "stream",
     "text": [
      "c:\\Users\\b-mor\\ACIT4620_XAI_with_ANFIS\\anfis_env\\lib\\site-packages\\sklearn\\metrics\\_regression.py:996: UndefinedMetricWarning: R^2 score is not well-defined with less than two samples.\n",
      "  warnings.warn(msg, UndefinedMetricWarning)\n",
      "c:\\Users\\b-mor\\ACIT4620_XAI_with_ANFIS\\anfis_env\\lib\\site-packages\\sklearn\\metrics\\_regression.py:996: UndefinedMetricWarning: R^2 score is not well-defined with less than two samples.\n",
      "  warnings.warn(msg, UndefinedMetricWarning)\n",
      "c:\\Users\\b-mor\\ACIT4620_XAI_with_ANFIS\\anfis_env\\lib\\site-packages\\sklearn\\metrics\\_regression.py:996: UndefinedMetricWarning: R^2 score is not well-defined with less than two samples.\n",
      "  warnings.warn(msg, UndefinedMetricWarning)\n"
     ]
    },
    {
     "name": "stdout",
     "output_type": "stream",
     "text": [
      "n_sets = 8\n"
     ]
    },
    {
     "name": "stderr",
     "output_type": "stream",
     "text": [
      "c:\\Users\\b-mor\\ACIT4620_XAI_with_ANFIS\\anfis_env\\lib\\site-packages\\sklearn\\metrics\\_regression.py:996: UndefinedMetricWarning: R^2 score is not well-defined with less than two samples.\n",
      "  warnings.warn(msg, UndefinedMetricWarning)\n",
      "c:\\Users\\b-mor\\ACIT4620_XAI_with_ANFIS\\anfis_env\\lib\\site-packages\\sklearn\\metrics\\_regression.py:996: UndefinedMetricWarning: R^2 score is not well-defined with less than two samples.\n",
      "  warnings.warn(msg, UndefinedMetricWarning)\n",
      "c:\\Users\\b-mor\\ACIT4620_XAI_with_ANFIS\\anfis_env\\lib\\site-packages\\sklearn\\metrics\\_regression.py:996: UndefinedMetricWarning: R^2 score is not well-defined with less than two samples.\n",
      "  warnings.warn(msg, UndefinedMetricWarning)\n"
     ]
    },
    {
     "name": "stdout",
     "output_type": "stream",
     "text": [
      "n_sets = 9\n"
     ]
    },
    {
     "name": "stderr",
     "output_type": "stream",
     "text": [
      "c:\\Users\\b-mor\\ACIT4620_XAI_with_ANFIS\\anfis_env\\lib\\site-packages\\sklearn\\metrics\\_regression.py:996: UndefinedMetricWarning: R^2 score is not well-defined with less than two samples.\n",
      "  warnings.warn(msg, UndefinedMetricWarning)\n",
      "c:\\Users\\b-mor\\ACIT4620_XAI_with_ANFIS\\anfis_env\\lib\\site-packages\\sklearn\\metrics\\_regression.py:996: UndefinedMetricWarning: R^2 score is not well-defined with less than two samples.\n",
      "  warnings.warn(msg, UndefinedMetricWarning)\n",
      "c:\\Users\\b-mor\\ACIT4620_XAI_with_ANFIS\\anfis_env\\lib\\site-packages\\sklearn\\metrics\\_regression.py:996: UndefinedMetricWarning: R^2 score is not well-defined with less than two samples.\n",
      "  warnings.warn(msg, UndefinedMetricWarning)\n"
     ]
    },
    {
     "name": "stdout",
     "output_type": "stream",
     "text": [
      "n_sets = 10\n"
     ]
    },
    {
     "name": "stderr",
     "output_type": "stream",
     "text": [
      "c:\\Users\\b-mor\\ACIT4620_XAI_with_ANFIS\\anfis_env\\lib\\site-packages\\sklearn\\metrics\\_regression.py:996: UndefinedMetricWarning: R^2 score is not well-defined with less than two samples.\n",
      "  warnings.warn(msg, UndefinedMetricWarning)\n",
      "c:\\Users\\b-mor\\ACIT4620_XAI_with_ANFIS\\anfis_env\\lib\\site-packages\\sklearn\\metrics\\_regression.py:996: UndefinedMetricWarning: R^2 score is not well-defined with less than two samples.\n",
      "  warnings.warn(msg, UndefinedMetricWarning)\n",
      "c:\\Users\\b-mor\\ACIT4620_XAI_with_ANFIS\\anfis_env\\lib\\site-packages\\sklearn\\metrics\\_regression.py:996: UndefinedMetricWarning: R^2 score is not well-defined with less than two samples.\n",
      "  warnings.warn(msg, UndefinedMetricWarning)\n"
     ]
    },
    {
     "name": "stdout",
     "output_type": "stream",
     "text": [
      "Starting run 6\n",
      "n_sets = 2\n",
      "n_sets = 3\n",
      "n_sets = 4\n",
      "n_sets = 5\n",
      "n_sets = 6\n"
     ]
    },
    {
     "name": "stderr",
     "output_type": "stream",
     "text": [
      "c:\\Users\\b-mor\\ACIT4620_XAI_with_ANFIS\\anfis_env\\lib\\site-packages\\sklearn\\metrics\\_regression.py:996: UndefinedMetricWarning: R^2 score is not well-defined with less than two samples.\n",
      "  warnings.warn(msg, UndefinedMetricWarning)\n",
      "c:\\Users\\b-mor\\ACIT4620_XAI_with_ANFIS\\anfis_env\\lib\\site-packages\\sklearn\\metrics\\_regression.py:996: UndefinedMetricWarning: R^2 score is not well-defined with less than two samples.\n",
      "  warnings.warn(msg, UndefinedMetricWarning)\n",
      "c:\\Users\\b-mor\\ACIT4620_XAI_with_ANFIS\\anfis_env\\lib\\site-packages\\sklearn\\metrics\\_regression.py:996: UndefinedMetricWarning: R^2 score is not well-defined with less than two samples.\n",
      "  warnings.warn(msg, UndefinedMetricWarning)\n"
     ]
    },
    {
     "name": "stdout",
     "output_type": "stream",
     "text": [
      "n_sets = 7\n"
     ]
    },
    {
     "name": "stderr",
     "output_type": "stream",
     "text": [
      "c:\\Users\\b-mor\\ACIT4620_XAI_with_ANFIS\\anfis_env\\lib\\site-packages\\sklearn\\metrics\\_regression.py:996: UndefinedMetricWarning: R^2 score is not well-defined with less than two samples.\n",
      "  warnings.warn(msg, UndefinedMetricWarning)\n",
      "c:\\Users\\b-mor\\ACIT4620_XAI_with_ANFIS\\anfis_env\\lib\\site-packages\\sklearn\\metrics\\_regression.py:996: UndefinedMetricWarning: R^2 score is not well-defined with less than two samples.\n",
      "  warnings.warn(msg, UndefinedMetricWarning)\n",
      "c:\\Users\\b-mor\\ACIT4620_XAI_with_ANFIS\\anfis_env\\lib\\site-packages\\sklearn\\metrics\\_regression.py:996: UndefinedMetricWarning: R^2 score is not well-defined with less than two samples.\n",
      "  warnings.warn(msg, UndefinedMetricWarning)\n"
     ]
    },
    {
     "name": "stdout",
     "output_type": "stream",
     "text": [
      "n_sets = 8\n"
     ]
    },
    {
     "name": "stderr",
     "output_type": "stream",
     "text": [
      "c:\\Users\\b-mor\\ACIT4620_XAI_with_ANFIS\\anfis_env\\lib\\site-packages\\sklearn\\metrics\\_regression.py:996: UndefinedMetricWarning: R^2 score is not well-defined with less than two samples.\n",
      "  warnings.warn(msg, UndefinedMetricWarning)\n",
      "c:\\Users\\b-mor\\ACIT4620_XAI_with_ANFIS\\anfis_env\\lib\\site-packages\\sklearn\\metrics\\_regression.py:996: UndefinedMetricWarning: R^2 score is not well-defined with less than two samples.\n",
      "  warnings.warn(msg, UndefinedMetricWarning)\n",
      "c:\\Users\\b-mor\\ACIT4620_XAI_with_ANFIS\\anfis_env\\lib\\site-packages\\sklearn\\metrics\\_regression.py:996: UndefinedMetricWarning: R^2 score is not well-defined with less than two samples.\n",
      "  warnings.warn(msg, UndefinedMetricWarning)\n"
     ]
    },
    {
     "name": "stdout",
     "output_type": "stream",
     "text": [
      "n_sets = 9\n"
     ]
    },
    {
     "name": "stderr",
     "output_type": "stream",
     "text": [
      "c:\\Users\\b-mor\\ACIT4620_XAI_with_ANFIS\\anfis_env\\lib\\site-packages\\sklearn\\metrics\\_regression.py:996: UndefinedMetricWarning: R^2 score is not well-defined with less than two samples.\n",
      "  warnings.warn(msg, UndefinedMetricWarning)\n",
      "c:\\Users\\b-mor\\ACIT4620_XAI_with_ANFIS\\anfis_env\\lib\\site-packages\\sklearn\\metrics\\_regression.py:996: UndefinedMetricWarning: R^2 score is not well-defined with less than two samples.\n",
      "  warnings.warn(msg, UndefinedMetricWarning)\n",
      "c:\\Users\\b-mor\\ACIT4620_XAI_with_ANFIS\\anfis_env\\lib\\site-packages\\sklearn\\metrics\\_regression.py:996: UndefinedMetricWarning: R^2 score is not well-defined with less than two samples.\n",
      "  warnings.warn(msg, UndefinedMetricWarning)\n"
     ]
    },
    {
     "name": "stdout",
     "output_type": "stream",
     "text": [
      "n_sets = 10\n"
     ]
    },
    {
     "name": "stderr",
     "output_type": "stream",
     "text": [
      "c:\\Users\\b-mor\\ACIT4620_XAI_with_ANFIS\\anfis_env\\lib\\site-packages\\sklearn\\metrics\\_regression.py:996: UndefinedMetricWarning: R^2 score is not well-defined with less than two samples.\n",
      "  warnings.warn(msg, UndefinedMetricWarning)\n",
      "c:\\Users\\b-mor\\ACIT4620_XAI_with_ANFIS\\anfis_env\\lib\\site-packages\\sklearn\\metrics\\_regression.py:996: UndefinedMetricWarning: R^2 score is not well-defined with less than two samples.\n",
      "  warnings.warn(msg, UndefinedMetricWarning)\n",
      "c:\\Users\\b-mor\\ACIT4620_XAI_with_ANFIS\\anfis_env\\lib\\site-packages\\sklearn\\metrics\\_regression.py:996: UndefinedMetricWarning: R^2 score is not well-defined with less than two samples.\n",
      "  warnings.warn(msg, UndefinedMetricWarning)\n"
     ]
    },
    {
     "name": "stdout",
     "output_type": "stream",
     "text": [
      "Starting run 7\n",
      "n_sets = 2\n",
      "n_sets = 3\n",
      "n_sets = 4\n",
      "n_sets = 5\n",
      "n_sets = 6\n"
     ]
    },
    {
     "name": "stderr",
     "output_type": "stream",
     "text": [
      "c:\\Users\\b-mor\\ACIT4620_XAI_with_ANFIS\\anfis_env\\lib\\site-packages\\sklearn\\metrics\\_regression.py:996: UndefinedMetricWarning: R^2 score is not well-defined with less than two samples.\n",
      "  warnings.warn(msg, UndefinedMetricWarning)\n",
      "c:\\Users\\b-mor\\ACIT4620_XAI_with_ANFIS\\anfis_env\\lib\\site-packages\\sklearn\\metrics\\_regression.py:996: UndefinedMetricWarning: R^2 score is not well-defined with less than two samples.\n",
      "  warnings.warn(msg, UndefinedMetricWarning)\n",
      "c:\\Users\\b-mor\\ACIT4620_XAI_with_ANFIS\\anfis_env\\lib\\site-packages\\sklearn\\metrics\\_regression.py:996: UndefinedMetricWarning: R^2 score is not well-defined with less than two samples.\n",
      "  warnings.warn(msg, UndefinedMetricWarning)\n"
     ]
    },
    {
     "name": "stdout",
     "output_type": "stream",
     "text": [
      "n_sets = 7\n"
     ]
    },
    {
     "name": "stderr",
     "output_type": "stream",
     "text": [
      "c:\\Users\\b-mor\\ACIT4620_XAI_with_ANFIS\\anfis_env\\lib\\site-packages\\sklearn\\metrics\\_regression.py:996: UndefinedMetricWarning: R^2 score is not well-defined with less than two samples.\n",
      "  warnings.warn(msg, UndefinedMetricWarning)\n",
      "c:\\Users\\b-mor\\ACIT4620_XAI_with_ANFIS\\anfis_env\\lib\\site-packages\\sklearn\\metrics\\_regression.py:996: UndefinedMetricWarning: R^2 score is not well-defined with less than two samples.\n",
      "  warnings.warn(msg, UndefinedMetricWarning)\n",
      "c:\\Users\\b-mor\\ACIT4620_XAI_with_ANFIS\\anfis_env\\lib\\site-packages\\sklearn\\metrics\\_regression.py:996: UndefinedMetricWarning: R^2 score is not well-defined with less than two samples.\n",
      "  warnings.warn(msg, UndefinedMetricWarning)\n"
     ]
    },
    {
     "name": "stdout",
     "output_type": "stream",
     "text": [
      "n_sets = 8\n"
     ]
    },
    {
     "name": "stderr",
     "output_type": "stream",
     "text": [
      "c:\\Users\\b-mor\\ACIT4620_XAI_with_ANFIS\\anfis_env\\lib\\site-packages\\sklearn\\metrics\\_regression.py:996: UndefinedMetricWarning: R^2 score is not well-defined with less than two samples.\n",
      "  warnings.warn(msg, UndefinedMetricWarning)\n",
      "c:\\Users\\b-mor\\ACIT4620_XAI_with_ANFIS\\anfis_env\\lib\\site-packages\\sklearn\\metrics\\_regression.py:996: UndefinedMetricWarning: R^2 score is not well-defined with less than two samples.\n",
      "  warnings.warn(msg, UndefinedMetricWarning)\n",
      "c:\\Users\\b-mor\\ACIT4620_XAI_with_ANFIS\\anfis_env\\lib\\site-packages\\sklearn\\metrics\\_regression.py:996: UndefinedMetricWarning: R^2 score is not well-defined with less than two samples.\n",
      "  warnings.warn(msg, UndefinedMetricWarning)\n"
     ]
    },
    {
     "name": "stdout",
     "output_type": "stream",
     "text": [
      "n_sets = 9\n"
     ]
    },
    {
     "name": "stderr",
     "output_type": "stream",
     "text": [
      "c:\\Users\\b-mor\\ACIT4620_XAI_with_ANFIS\\anfis_env\\lib\\site-packages\\sklearn\\metrics\\_regression.py:996: UndefinedMetricWarning: R^2 score is not well-defined with less than two samples.\n",
      "  warnings.warn(msg, UndefinedMetricWarning)\n",
      "c:\\Users\\b-mor\\ACIT4620_XAI_with_ANFIS\\anfis_env\\lib\\site-packages\\sklearn\\metrics\\_regression.py:996: UndefinedMetricWarning: R^2 score is not well-defined with less than two samples.\n",
      "  warnings.warn(msg, UndefinedMetricWarning)\n",
      "c:\\Users\\b-mor\\ACIT4620_XAI_with_ANFIS\\anfis_env\\lib\\site-packages\\sklearn\\metrics\\_regression.py:996: UndefinedMetricWarning: R^2 score is not well-defined with less than two samples.\n",
      "  warnings.warn(msg, UndefinedMetricWarning)\n"
     ]
    },
    {
     "name": "stdout",
     "output_type": "stream",
     "text": [
      "n_sets = 10\n"
     ]
    },
    {
     "name": "stderr",
     "output_type": "stream",
     "text": [
      "c:\\Users\\b-mor\\ACIT4620_XAI_with_ANFIS\\anfis_env\\lib\\site-packages\\sklearn\\metrics\\_regression.py:996: UndefinedMetricWarning: R^2 score is not well-defined with less than two samples.\n",
      "  warnings.warn(msg, UndefinedMetricWarning)\n",
      "c:\\Users\\b-mor\\ACIT4620_XAI_with_ANFIS\\anfis_env\\lib\\site-packages\\sklearn\\metrics\\_regression.py:996: UndefinedMetricWarning: R^2 score is not well-defined with less than two samples.\n",
      "  warnings.warn(msg, UndefinedMetricWarning)\n",
      "c:\\Users\\b-mor\\ACIT4620_XAI_with_ANFIS\\anfis_env\\lib\\site-packages\\sklearn\\metrics\\_regression.py:996: UndefinedMetricWarning: R^2 score is not well-defined with less than two samples.\n",
      "  warnings.warn(msg, UndefinedMetricWarning)\n"
     ]
    },
    {
     "name": "stdout",
     "output_type": "stream",
     "text": [
      "Starting run 8\n",
      "n_sets = 2\n",
      "n_sets = 3\n",
      "n_sets = 4\n",
      "n_sets = 5\n",
      "n_sets = 6\n"
     ]
    },
    {
     "name": "stderr",
     "output_type": "stream",
     "text": [
      "c:\\Users\\b-mor\\ACIT4620_XAI_with_ANFIS\\anfis_env\\lib\\site-packages\\sklearn\\metrics\\_regression.py:996: UndefinedMetricWarning: R^2 score is not well-defined with less than two samples.\n",
      "  warnings.warn(msg, UndefinedMetricWarning)\n",
      "c:\\Users\\b-mor\\ACIT4620_XAI_with_ANFIS\\anfis_env\\lib\\site-packages\\sklearn\\metrics\\_regression.py:996: UndefinedMetricWarning: R^2 score is not well-defined with less than two samples.\n",
      "  warnings.warn(msg, UndefinedMetricWarning)\n",
      "c:\\Users\\b-mor\\ACIT4620_XAI_with_ANFIS\\anfis_env\\lib\\site-packages\\sklearn\\metrics\\_regression.py:996: UndefinedMetricWarning: R^2 score is not well-defined with less than two samples.\n",
      "  warnings.warn(msg, UndefinedMetricWarning)\n"
     ]
    },
    {
     "name": "stdout",
     "output_type": "stream",
     "text": [
      "n_sets = 7\n"
     ]
    },
    {
     "name": "stderr",
     "output_type": "stream",
     "text": [
      "c:\\Users\\b-mor\\ACIT4620_XAI_with_ANFIS\\anfis_env\\lib\\site-packages\\sklearn\\metrics\\_regression.py:996: UndefinedMetricWarning: R^2 score is not well-defined with less than two samples.\n",
      "  warnings.warn(msg, UndefinedMetricWarning)\n",
      "c:\\Users\\b-mor\\ACIT4620_XAI_with_ANFIS\\anfis_env\\lib\\site-packages\\sklearn\\metrics\\_regression.py:996: UndefinedMetricWarning: R^2 score is not well-defined with less than two samples.\n",
      "  warnings.warn(msg, UndefinedMetricWarning)\n",
      "c:\\Users\\b-mor\\ACIT4620_XAI_with_ANFIS\\anfis_env\\lib\\site-packages\\sklearn\\metrics\\_regression.py:996: UndefinedMetricWarning: R^2 score is not well-defined with less than two samples.\n",
      "  warnings.warn(msg, UndefinedMetricWarning)\n"
     ]
    },
    {
     "name": "stdout",
     "output_type": "stream",
     "text": [
      "n_sets = 8\n"
     ]
    },
    {
     "name": "stderr",
     "output_type": "stream",
     "text": [
      "c:\\Users\\b-mor\\ACIT4620_XAI_with_ANFIS\\anfis_env\\lib\\site-packages\\sklearn\\metrics\\_regression.py:996: UndefinedMetricWarning: R^2 score is not well-defined with less than two samples.\n",
      "  warnings.warn(msg, UndefinedMetricWarning)\n",
      "c:\\Users\\b-mor\\ACIT4620_XAI_with_ANFIS\\anfis_env\\lib\\site-packages\\sklearn\\metrics\\_regression.py:996: UndefinedMetricWarning: R^2 score is not well-defined with less than two samples.\n",
      "  warnings.warn(msg, UndefinedMetricWarning)\n",
      "c:\\Users\\b-mor\\ACIT4620_XAI_with_ANFIS\\anfis_env\\lib\\site-packages\\sklearn\\metrics\\_regression.py:996: UndefinedMetricWarning: R^2 score is not well-defined with less than two samples.\n",
      "  warnings.warn(msg, UndefinedMetricWarning)\n"
     ]
    },
    {
     "name": "stdout",
     "output_type": "stream",
     "text": [
      "n_sets = 9\n"
     ]
    },
    {
     "name": "stderr",
     "output_type": "stream",
     "text": [
      "c:\\Users\\b-mor\\ACIT4620_XAI_with_ANFIS\\anfis_env\\lib\\site-packages\\sklearn\\metrics\\_regression.py:996: UndefinedMetricWarning: R^2 score is not well-defined with less than two samples.\n",
      "  warnings.warn(msg, UndefinedMetricWarning)\n",
      "c:\\Users\\b-mor\\ACIT4620_XAI_with_ANFIS\\anfis_env\\lib\\site-packages\\sklearn\\metrics\\_regression.py:996: UndefinedMetricWarning: R^2 score is not well-defined with less than two samples.\n",
      "  warnings.warn(msg, UndefinedMetricWarning)\n",
      "c:\\Users\\b-mor\\ACIT4620_XAI_with_ANFIS\\anfis_env\\lib\\site-packages\\sklearn\\metrics\\_regression.py:996: UndefinedMetricWarning: R^2 score is not well-defined with less than two samples.\n",
      "  warnings.warn(msg, UndefinedMetricWarning)\n"
     ]
    },
    {
     "name": "stdout",
     "output_type": "stream",
     "text": [
      "n_sets = 10\n"
     ]
    },
    {
     "name": "stderr",
     "output_type": "stream",
     "text": [
      "c:\\Users\\b-mor\\ACIT4620_XAI_with_ANFIS\\anfis_env\\lib\\site-packages\\sklearn\\metrics\\_regression.py:996: UndefinedMetricWarning: R^2 score is not well-defined with less than two samples.\n",
      "  warnings.warn(msg, UndefinedMetricWarning)\n",
      "c:\\Users\\b-mor\\ACIT4620_XAI_with_ANFIS\\anfis_env\\lib\\site-packages\\sklearn\\metrics\\_regression.py:996: UndefinedMetricWarning: R^2 score is not well-defined with less than two samples.\n",
      "  warnings.warn(msg, UndefinedMetricWarning)\n",
      "c:\\Users\\b-mor\\ACIT4620_XAI_with_ANFIS\\anfis_env\\lib\\site-packages\\sklearn\\metrics\\_regression.py:996: UndefinedMetricWarning: R^2 score is not well-defined with less than two samples.\n",
      "  warnings.warn(msg, UndefinedMetricWarning)\n"
     ]
    },
    {
     "name": "stdout",
     "output_type": "stream",
     "text": [
      "Starting run 9\n",
      "n_sets = 2\n",
      "n_sets = 3\n",
      "n_sets = 4\n",
      "n_sets = 5\n",
      "n_sets = 6\n"
     ]
    },
    {
     "name": "stderr",
     "output_type": "stream",
     "text": [
      "c:\\Users\\b-mor\\ACIT4620_XAI_with_ANFIS\\anfis_env\\lib\\site-packages\\sklearn\\metrics\\_regression.py:996: UndefinedMetricWarning: R^2 score is not well-defined with less than two samples.\n",
      "  warnings.warn(msg, UndefinedMetricWarning)\n",
      "c:\\Users\\b-mor\\ACIT4620_XAI_with_ANFIS\\anfis_env\\lib\\site-packages\\sklearn\\metrics\\_regression.py:996: UndefinedMetricWarning: R^2 score is not well-defined with less than two samples.\n",
      "  warnings.warn(msg, UndefinedMetricWarning)\n",
      "c:\\Users\\b-mor\\ACIT4620_XAI_with_ANFIS\\anfis_env\\lib\\site-packages\\sklearn\\metrics\\_regression.py:996: UndefinedMetricWarning: R^2 score is not well-defined with less than two samples.\n",
      "  warnings.warn(msg, UndefinedMetricWarning)\n"
     ]
    },
    {
     "name": "stdout",
     "output_type": "stream",
     "text": [
      "n_sets = 7\n"
     ]
    },
    {
     "name": "stderr",
     "output_type": "stream",
     "text": [
      "c:\\Users\\b-mor\\ACIT4620_XAI_with_ANFIS\\anfis_env\\lib\\site-packages\\sklearn\\metrics\\_regression.py:996: UndefinedMetricWarning: R^2 score is not well-defined with less than two samples.\n",
      "  warnings.warn(msg, UndefinedMetricWarning)\n",
      "c:\\Users\\b-mor\\ACIT4620_XAI_with_ANFIS\\anfis_env\\lib\\site-packages\\sklearn\\metrics\\_regression.py:996: UndefinedMetricWarning: R^2 score is not well-defined with less than two samples.\n",
      "  warnings.warn(msg, UndefinedMetricWarning)\n",
      "c:\\Users\\b-mor\\ACIT4620_XAI_with_ANFIS\\anfis_env\\lib\\site-packages\\sklearn\\metrics\\_regression.py:996: UndefinedMetricWarning: R^2 score is not well-defined with less than two samples.\n",
      "  warnings.warn(msg, UndefinedMetricWarning)\n"
     ]
    },
    {
     "name": "stdout",
     "output_type": "stream",
     "text": [
      "n_sets = 8\n"
     ]
    },
    {
     "name": "stderr",
     "output_type": "stream",
     "text": [
      "c:\\Users\\b-mor\\ACIT4620_XAI_with_ANFIS\\anfis_env\\lib\\site-packages\\sklearn\\metrics\\_regression.py:996: UndefinedMetricWarning: R^2 score is not well-defined with less than two samples.\n",
      "  warnings.warn(msg, UndefinedMetricWarning)\n",
      "c:\\Users\\b-mor\\ACIT4620_XAI_with_ANFIS\\anfis_env\\lib\\site-packages\\sklearn\\metrics\\_regression.py:996: UndefinedMetricWarning: R^2 score is not well-defined with less than two samples.\n",
      "  warnings.warn(msg, UndefinedMetricWarning)\n",
      "c:\\Users\\b-mor\\ACIT4620_XAI_with_ANFIS\\anfis_env\\lib\\site-packages\\sklearn\\metrics\\_regression.py:996: UndefinedMetricWarning: R^2 score is not well-defined with less than two samples.\n",
      "  warnings.warn(msg, UndefinedMetricWarning)\n"
     ]
    },
    {
     "name": "stdout",
     "output_type": "stream",
     "text": [
      "n_sets = 9\n"
     ]
    },
    {
     "name": "stderr",
     "output_type": "stream",
     "text": [
      "c:\\Users\\b-mor\\ACIT4620_XAI_with_ANFIS\\anfis_env\\lib\\site-packages\\sklearn\\metrics\\_regression.py:996: UndefinedMetricWarning: R^2 score is not well-defined with less than two samples.\n",
      "  warnings.warn(msg, UndefinedMetricWarning)\n",
      "c:\\Users\\b-mor\\ACIT4620_XAI_with_ANFIS\\anfis_env\\lib\\site-packages\\sklearn\\metrics\\_regression.py:996: UndefinedMetricWarning: R^2 score is not well-defined with less than two samples.\n",
      "  warnings.warn(msg, UndefinedMetricWarning)\n",
      "c:\\Users\\b-mor\\ACIT4620_XAI_with_ANFIS\\anfis_env\\lib\\site-packages\\sklearn\\metrics\\_regression.py:996: UndefinedMetricWarning: R^2 score is not well-defined with less than two samples.\n",
      "  warnings.warn(msg, UndefinedMetricWarning)\n"
     ]
    },
    {
     "name": "stdout",
     "output_type": "stream",
     "text": [
      "n_sets = 10\n"
     ]
    },
    {
     "name": "stderr",
     "output_type": "stream",
     "text": [
      "c:\\Users\\b-mor\\ACIT4620_XAI_with_ANFIS\\anfis_env\\lib\\site-packages\\sklearn\\metrics\\_regression.py:996: UndefinedMetricWarning: R^2 score is not well-defined with less than two samples.\n",
      "  warnings.warn(msg, UndefinedMetricWarning)\n",
      "c:\\Users\\b-mor\\ACIT4620_XAI_with_ANFIS\\anfis_env\\lib\\site-packages\\sklearn\\metrics\\_regression.py:996: UndefinedMetricWarning: R^2 score is not well-defined with less than two samples.\n",
      "  warnings.warn(msg, UndefinedMetricWarning)\n",
      "c:\\Users\\b-mor\\ACIT4620_XAI_with_ANFIS\\anfis_env\\lib\\site-packages\\sklearn\\metrics\\_regression.py:996: UndefinedMetricWarning: R^2 score is not well-defined with less than two samples.\n",
      "  warnings.warn(msg, UndefinedMetricWarning)\n"
     ]
    },
    {
     "name": "stdout",
     "output_type": "stream",
     "text": [
      "Starting run 10\n",
      "n_sets = 2\n",
      "n_sets = 3\n",
      "n_sets = 4\n",
      "n_sets = 5\n",
      "n_sets = 6\n"
     ]
    },
    {
     "name": "stderr",
     "output_type": "stream",
     "text": [
      "c:\\Users\\b-mor\\ACIT4620_XAI_with_ANFIS\\anfis_env\\lib\\site-packages\\sklearn\\metrics\\_regression.py:996: UndefinedMetricWarning: R^2 score is not well-defined with less than two samples.\n",
      "  warnings.warn(msg, UndefinedMetricWarning)\n",
      "c:\\Users\\b-mor\\ACIT4620_XAI_with_ANFIS\\anfis_env\\lib\\site-packages\\sklearn\\metrics\\_regression.py:996: UndefinedMetricWarning: R^2 score is not well-defined with less than two samples.\n",
      "  warnings.warn(msg, UndefinedMetricWarning)\n",
      "c:\\Users\\b-mor\\ACIT4620_XAI_with_ANFIS\\anfis_env\\lib\\site-packages\\sklearn\\metrics\\_regression.py:996: UndefinedMetricWarning: R^2 score is not well-defined with less than two samples.\n",
      "  warnings.warn(msg, UndefinedMetricWarning)\n"
     ]
    },
    {
     "name": "stdout",
     "output_type": "stream",
     "text": [
      "n_sets = 7\n"
     ]
    },
    {
     "name": "stderr",
     "output_type": "stream",
     "text": [
      "c:\\Users\\b-mor\\ACIT4620_XAI_with_ANFIS\\anfis_env\\lib\\site-packages\\sklearn\\metrics\\_regression.py:996: UndefinedMetricWarning: R^2 score is not well-defined with less than two samples.\n",
      "  warnings.warn(msg, UndefinedMetricWarning)\n",
      "c:\\Users\\b-mor\\ACIT4620_XAI_with_ANFIS\\anfis_env\\lib\\site-packages\\sklearn\\metrics\\_regression.py:996: UndefinedMetricWarning: R^2 score is not well-defined with less than two samples.\n",
      "  warnings.warn(msg, UndefinedMetricWarning)\n",
      "c:\\Users\\b-mor\\ACIT4620_XAI_with_ANFIS\\anfis_env\\lib\\site-packages\\sklearn\\metrics\\_regression.py:996: UndefinedMetricWarning: R^2 score is not well-defined with less than two samples.\n",
      "  warnings.warn(msg, UndefinedMetricWarning)\n"
     ]
    },
    {
     "name": "stdout",
     "output_type": "stream",
     "text": [
      "n_sets = 8\n"
     ]
    },
    {
     "name": "stderr",
     "output_type": "stream",
     "text": [
      "c:\\Users\\b-mor\\ACIT4620_XAI_with_ANFIS\\anfis_env\\lib\\site-packages\\sklearn\\metrics\\_regression.py:996: UndefinedMetricWarning: R^2 score is not well-defined with less than two samples.\n",
      "  warnings.warn(msg, UndefinedMetricWarning)\n",
      "c:\\Users\\b-mor\\ACIT4620_XAI_with_ANFIS\\anfis_env\\lib\\site-packages\\sklearn\\metrics\\_regression.py:996: UndefinedMetricWarning: R^2 score is not well-defined with less than two samples.\n",
      "  warnings.warn(msg, UndefinedMetricWarning)\n",
      "c:\\Users\\b-mor\\ACIT4620_XAI_with_ANFIS\\anfis_env\\lib\\site-packages\\sklearn\\metrics\\_regression.py:996: UndefinedMetricWarning: R^2 score is not well-defined with less than two samples.\n",
      "  warnings.warn(msg, UndefinedMetricWarning)\n"
     ]
    },
    {
     "name": "stdout",
     "output_type": "stream",
     "text": [
      "n_sets = 9\n"
     ]
    },
    {
     "name": "stderr",
     "output_type": "stream",
     "text": [
      "c:\\Users\\b-mor\\ACIT4620_XAI_with_ANFIS\\anfis_env\\lib\\site-packages\\sklearn\\metrics\\_regression.py:996: UndefinedMetricWarning: R^2 score is not well-defined with less than two samples.\n",
      "  warnings.warn(msg, UndefinedMetricWarning)\n",
      "c:\\Users\\b-mor\\ACIT4620_XAI_with_ANFIS\\anfis_env\\lib\\site-packages\\sklearn\\metrics\\_regression.py:996: UndefinedMetricWarning: R^2 score is not well-defined with less than two samples.\n",
      "  warnings.warn(msg, UndefinedMetricWarning)\n",
      "c:\\Users\\b-mor\\ACIT4620_XAI_with_ANFIS\\anfis_env\\lib\\site-packages\\sklearn\\metrics\\_regression.py:996: UndefinedMetricWarning: R^2 score is not well-defined with less than two samples.\n",
      "  warnings.warn(msg, UndefinedMetricWarning)\n"
     ]
    },
    {
     "name": "stdout",
     "output_type": "stream",
     "text": [
      "n_sets = 10\n"
     ]
    },
    {
     "name": "stderr",
     "output_type": "stream",
     "text": [
      "c:\\Users\\b-mor\\ACIT4620_XAI_with_ANFIS\\anfis_env\\lib\\site-packages\\sklearn\\metrics\\_regression.py:996: UndefinedMetricWarning: R^2 score is not well-defined with less than two samples.\n",
      "  warnings.warn(msg, UndefinedMetricWarning)\n",
      "c:\\Users\\b-mor\\ACIT4620_XAI_with_ANFIS\\anfis_env\\lib\\site-packages\\sklearn\\metrics\\_regression.py:996: UndefinedMetricWarning: R^2 score is not well-defined with less than two samples.\n",
      "  warnings.warn(msg, UndefinedMetricWarning)\n",
      "c:\\Users\\b-mor\\ACIT4620_XAI_with_ANFIS\\anfis_env\\lib\\site-packages\\sklearn\\metrics\\_regression.py:996: UndefinedMetricWarning: R^2 score is not well-defined with less than two samples.\n",
      "  warnings.warn(msg, UndefinedMetricWarning)\n"
     ]
    },
    {
     "name": "stdout",
     "output_type": "stream",
     "text": [
      "Starting run 11\n",
      "n_sets = 2\n",
      "n_sets = 3\n",
      "n_sets = 4\n",
      "n_sets = 5\n",
      "n_sets = 6\n"
     ]
    },
    {
     "name": "stderr",
     "output_type": "stream",
     "text": [
      "c:\\Users\\b-mor\\ACIT4620_XAI_with_ANFIS\\anfis_env\\lib\\site-packages\\sklearn\\metrics\\_regression.py:996: UndefinedMetricWarning: R^2 score is not well-defined with less than two samples.\n",
      "  warnings.warn(msg, UndefinedMetricWarning)\n",
      "c:\\Users\\b-mor\\ACIT4620_XAI_with_ANFIS\\anfis_env\\lib\\site-packages\\sklearn\\metrics\\_regression.py:996: UndefinedMetricWarning: R^2 score is not well-defined with less than two samples.\n",
      "  warnings.warn(msg, UndefinedMetricWarning)\n",
      "c:\\Users\\b-mor\\ACIT4620_XAI_with_ANFIS\\anfis_env\\lib\\site-packages\\sklearn\\metrics\\_regression.py:996: UndefinedMetricWarning: R^2 score is not well-defined with less than two samples.\n",
      "  warnings.warn(msg, UndefinedMetricWarning)\n"
     ]
    },
    {
     "name": "stdout",
     "output_type": "stream",
     "text": [
      "n_sets = 7\n"
     ]
    },
    {
     "name": "stderr",
     "output_type": "stream",
     "text": [
      "c:\\Users\\b-mor\\ACIT4620_XAI_with_ANFIS\\anfis_env\\lib\\site-packages\\sklearn\\metrics\\_regression.py:996: UndefinedMetricWarning: R^2 score is not well-defined with less than two samples.\n",
      "  warnings.warn(msg, UndefinedMetricWarning)\n",
      "c:\\Users\\b-mor\\ACIT4620_XAI_with_ANFIS\\anfis_env\\lib\\site-packages\\sklearn\\metrics\\_regression.py:996: UndefinedMetricWarning: R^2 score is not well-defined with less than two samples.\n",
      "  warnings.warn(msg, UndefinedMetricWarning)\n",
      "c:\\Users\\b-mor\\ACIT4620_XAI_with_ANFIS\\anfis_env\\lib\\site-packages\\sklearn\\metrics\\_regression.py:996: UndefinedMetricWarning: R^2 score is not well-defined with less than two samples.\n",
      "  warnings.warn(msg, UndefinedMetricWarning)\n"
     ]
    },
    {
     "name": "stdout",
     "output_type": "stream",
     "text": [
      "n_sets = 8\n"
     ]
    },
    {
     "name": "stderr",
     "output_type": "stream",
     "text": [
      "c:\\Users\\b-mor\\ACIT4620_XAI_with_ANFIS\\anfis_env\\lib\\site-packages\\sklearn\\metrics\\_regression.py:996: UndefinedMetricWarning: R^2 score is not well-defined with less than two samples.\n",
      "  warnings.warn(msg, UndefinedMetricWarning)\n",
      "c:\\Users\\b-mor\\ACIT4620_XAI_with_ANFIS\\anfis_env\\lib\\site-packages\\sklearn\\metrics\\_regression.py:996: UndefinedMetricWarning: R^2 score is not well-defined with less than two samples.\n",
      "  warnings.warn(msg, UndefinedMetricWarning)\n",
      "c:\\Users\\b-mor\\ACIT4620_XAI_with_ANFIS\\anfis_env\\lib\\site-packages\\sklearn\\metrics\\_regression.py:996: UndefinedMetricWarning: R^2 score is not well-defined with less than two samples.\n",
      "  warnings.warn(msg, UndefinedMetricWarning)\n"
     ]
    },
    {
     "name": "stdout",
     "output_type": "stream",
     "text": [
      "n_sets = 9\n"
     ]
    },
    {
     "name": "stderr",
     "output_type": "stream",
     "text": [
      "c:\\Users\\b-mor\\ACIT4620_XAI_with_ANFIS\\anfis_env\\lib\\site-packages\\sklearn\\metrics\\_regression.py:996: UndefinedMetricWarning: R^2 score is not well-defined with less than two samples.\n",
      "  warnings.warn(msg, UndefinedMetricWarning)\n",
      "c:\\Users\\b-mor\\ACIT4620_XAI_with_ANFIS\\anfis_env\\lib\\site-packages\\sklearn\\metrics\\_regression.py:996: UndefinedMetricWarning: R^2 score is not well-defined with less than two samples.\n",
      "  warnings.warn(msg, UndefinedMetricWarning)\n",
      "c:\\Users\\b-mor\\ACIT4620_XAI_with_ANFIS\\anfis_env\\lib\\site-packages\\sklearn\\metrics\\_regression.py:996: UndefinedMetricWarning: R^2 score is not well-defined with less than two samples.\n",
      "  warnings.warn(msg, UndefinedMetricWarning)\n"
     ]
    },
    {
     "name": "stdout",
     "output_type": "stream",
     "text": [
      "n_sets = 10\n"
     ]
    },
    {
     "name": "stderr",
     "output_type": "stream",
     "text": [
      "c:\\Users\\b-mor\\ACIT4620_XAI_with_ANFIS\\anfis_env\\lib\\site-packages\\sklearn\\metrics\\_regression.py:996: UndefinedMetricWarning: R^2 score is not well-defined with less than two samples.\n",
      "  warnings.warn(msg, UndefinedMetricWarning)\n",
      "c:\\Users\\b-mor\\ACIT4620_XAI_with_ANFIS\\anfis_env\\lib\\site-packages\\sklearn\\metrics\\_regression.py:996: UndefinedMetricWarning: R^2 score is not well-defined with less than two samples.\n",
      "  warnings.warn(msg, UndefinedMetricWarning)\n",
      "c:\\Users\\b-mor\\ACIT4620_XAI_with_ANFIS\\anfis_env\\lib\\site-packages\\sklearn\\metrics\\_regression.py:996: UndefinedMetricWarning: R^2 score is not well-defined with less than two samples.\n",
      "  warnings.warn(msg, UndefinedMetricWarning)\n"
     ]
    },
    {
     "name": "stdout",
     "output_type": "stream",
     "text": [
      "Starting run 12\n",
      "n_sets = 2\n",
      "n_sets = 3\n",
      "n_sets = 4\n",
      "n_sets = 5\n",
      "n_sets = 6\n"
     ]
    },
    {
     "name": "stderr",
     "output_type": "stream",
     "text": [
      "c:\\Users\\b-mor\\ACIT4620_XAI_with_ANFIS\\anfis_env\\lib\\site-packages\\sklearn\\metrics\\_regression.py:996: UndefinedMetricWarning: R^2 score is not well-defined with less than two samples.\n",
      "  warnings.warn(msg, UndefinedMetricWarning)\n",
      "c:\\Users\\b-mor\\ACIT4620_XAI_with_ANFIS\\anfis_env\\lib\\site-packages\\sklearn\\metrics\\_regression.py:996: UndefinedMetricWarning: R^2 score is not well-defined with less than two samples.\n",
      "  warnings.warn(msg, UndefinedMetricWarning)\n",
      "c:\\Users\\b-mor\\ACIT4620_XAI_with_ANFIS\\anfis_env\\lib\\site-packages\\sklearn\\metrics\\_regression.py:996: UndefinedMetricWarning: R^2 score is not well-defined with less than two samples.\n",
      "  warnings.warn(msg, UndefinedMetricWarning)\n"
     ]
    },
    {
     "name": "stdout",
     "output_type": "stream",
     "text": [
      "n_sets = 7\n"
     ]
    },
    {
     "name": "stderr",
     "output_type": "stream",
     "text": [
      "c:\\Users\\b-mor\\ACIT4620_XAI_with_ANFIS\\anfis_env\\lib\\site-packages\\sklearn\\metrics\\_regression.py:996: UndefinedMetricWarning: R^2 score is not well-defined with less than two samples.\n",
      "  warnings.warn(msg, UndefinedMetricWarning)\n",
      "c:\\Users\\b-mor\\ACIT4620_XAI_with_ANFIS\\anfis_env\\lib\\site-packages\\sklearn\\metrics\\_regression.py:996: UndefinedMetricWarning: R^2 score is not well-defined with less than two samples.\n",
      "  warnings.warn(msg, UndefinedMetricWarning)\n",
      "c:\\Users\\b-mor\\ACIT4620_XAI_with_ANFIS\\anfis_env\\lib\\site-packages\\sklearn\\metrics\\_regression.py:996: UndefinedMetricWarning: R^2 score is not well-defined with less than two samples.\n",
      "  warnings.warn(msg, UndefinedMetricWarning)\n"
     ]
    },
    {
     "name": "stdout",
     "output_type": "stream",
     "text": [
      "n_sets = 8\n"
     ]
    },
    {
     "name": "stderr",
     "output_type": "stream",
     "text": [
      "c:\\Users\\b-mor\\ACIT4620_XAI_with_ANFIS\\anfis_env\\lib\\site-packages\\sklearn\\metrics\\_regression.py:996: UndefinedMetricWarning: R^2 score is not well-defined with less than two samples.\n",
      "  warnings.warn(msg, UndefinedMetricWarning)\n",
      "c:\\Users\\b-mor\\ACIT4620_XAI_with_ANFIS\\anfis_env\\lib\\site-packages\\sklearn\\metrics\\_regression.py:996: UndefinedMetricWarning: R^2 score is not well-defined with less than two samples.\n",
      "  warnings.warn(msg, UndefinedMetricWarning)\n",
      "c:\\Users\\b-mor\\ACIT4620_XAI_with_ANFIS\\anfis_env\\lib\\site-packages\\sklearn\\metrics\\_regression.py:996: UndefinedMetricWarning: R^2 score is not well-defined with less than two samples.\n",
      "  warnings.warn(msg, UndefinedMetricWarning)\n"
     ]
    },
    {
     "name": "stdout",
     "output_type": "stream",
     "text": [
      "n_sets = 9\n"
     ]
    },
    {
     "name": "stderr",
     "output_type": "stream",
     "text": [
      "c:\\Users\\b-mor\\ACIT4620_XAI_with_ANFIS\\anfis_env\\lib\\site-packages\\sklearn\\metrics\\_regression.py:996: UndefinedMetricWarning: R^2 score is not well-defined with less than two samples.\n",
      "  warnings.warn(msg, UndefinedMetricWarning)\n",
      "c:\\Users\\b-mor\\ACIT4620_XAI_with_ANFIS\\anfis_env\\lib\\site-packages\\sklearn\\metrics\\_regression.py:996: UndefinedMetricWarning: R^2 score is not well-defined with less than two samples.\n",
      "  warnings.warn(msg, UndefinedMetricWarning)\n",
      "c:\\Users\\b-mor\\ACIT4620_XAI_with_ANFIS\\anfis_env\\lib\\site-packages\\sklearn\\metrics\\_regression.py:996: UndefinedMetricWarning: R^2 score is not well-defined with less than two samples.\n",
      "  warnings.warn(msg, UndefinedMetricWarning)\n"
     ]
    },
    {
     "name": "stdout",
     "output_type": "stream",
     "text": [
      "n_sets = 10\n"
     ]
    },
    {
     "name": "stderr",
     "output_type": "stream",
     "text": [
      "c:\\Users\\b-mor\\ACIT4620_XAI_with_ANFIS\\anfis_env\\lib\\site-packages\\sklearn\\metrics\\_regression.py:996: UndefinedMetricWarning: R^2 score is not well-defined with less than two samples.\n",
      "  warnings.warn(msg, UndefinedMetricWarning)\n",
      "c:\\Users\\b-mor\\ACIT4620_XAI_with_ANFIS\\anfis_env\\lib\\site-packages\\sklearn\\metrics\\_regression.py:996: UndefinedMetricWarning: R^2 score is not well-defined with less than two samples.\n",
      "  warnings.warn(msg, UndefinedMetricWarning)\n",
      "c:\\Users\\b-mor\\ACIT4620_XAI_with_ANFIS\\anfis_env\\lib\\site-packages\\sklearn\\metrics\\_regression.py:996: UndefinedMetricWarning: R^2 score is not well-defined with less than two samples.\n",
      "  warnings.warn(msg, UndefinedMetricWarning)\n"
     ]
    },
    {
     "name": "stdout",
     "output_type": "stream",
     "text": [
      "Starting run 13\n",
      "n_sets = 2\n",
      "n_sets = 3\n",
      "n_sets = 4\n",
      "n_sets = 5\n",
      "n_sets = 6\n"
     ]
    },
    {
     "name": "stderr",
     "output_type": "stream",
     "text": [
      "c:\\Users\\b-mor\\ACIT4620_XAI_with_ANFIS\\anfis_env\\lib\\site-packages\\sklearn\\metrics\\_regression.py:996: UndefinedMetricWarning: R^2 score is not well-defined with less than two samples.\n",
      "  warnings.warn(msg, UndefinedMetricWarning)\n",
      "c:\\Users\\b-mor\\ACIT4620_XAI_with_ANFIS\\anfis_env\\lib\\site-packages\\sklearn\\metrics\\_regression.py:996: UndefinedMetricWarning: R^2 score is not well-defined with less than two samples.\n",
      "  warnings.warn(msg, UndefinedMetricWarning)\n",
      "c:\\Users\\b-mor\\ACIT4620_XAI_with_ANFIS\\anfis_env\\lib\\site-packages\\sklearn\\metrics\\_regression.py:996: UndefinedMetricWarning: R^2 score is not well-defined with less than two samples.\n",
      "  warnings.warn(msg, UndefinedMetricWarning)\n"
     ]
    },
    {
     "name": "stdout",
     "output_type": "stream",
     "text": [
      "n_sets = 7\n"
     ]
    },
    {
     "name": "stderr",
     "output_type": "stream",
     "text": [
      "c:\\Users\\b-mor\\ACIT4620_XAI_with_ANFIS\\anfis_env\\lib\\site-packages\\sklearn\\metrics\\_regression.py:996: UndefinedMetricWarning: R^2 score is not well-defined with less than two samples.\n",
      "  warnings.warn(msg, UndefinedMetricWarning)\n",
      "c:\\Users\\b-mor\\ACIT4620_XAI_with_ANFIS\\anfis_env\\lib\\site-packages\\sklearn\\metrics\\_regression.py:996: UndefinedMetricWarning: R^2 score is not well-defined with less than two samples.\n",
      "  warnings.warn(msg, UndefinedMetricWarning)\n",
      "c:\\Users\\b-mor\\ACIT4620_XAI_with_ANFIS\\anfis_env\\lib\\site-packages\\sklearn\\metrics\\_regression.py:996: UndefinedMetricWarning: R^2 score is not well-defined with less than two samples.\n",
      "  warnings.warn(msg, UndefinedMetricWarning)\n"
     ]
    },
    {
     "name": "stdout",
     "output_type": "stream",
     "text": [
      "n_sets = 8\n"
     ]
    },
    {
     "name": "stderr",
     "output_type": "stream",
     "text": [
      "c:\\Users\\b-mor\\ACIT4620_XAI_with_ANFIS\\anfis_env\\lib\\site-packages\\sklearn\\metrics\\_regression.py:996: UndefinedMetricWarning: R^2 score is not well-defined with less than two samples.\n",
      "  warnings.warn(msg, UndefinedMetricWarning)\n",
      "c:\\Users\\b-mor\\ACIT4620_XAI_with_ANFIS\\anfis_env\\lib\\site-packages\\sklearn\\metrics\\_regression.py:996: UndefinedMetricWarning: R^2 score is not well-defined with less than two samples.\n",
      "  warnings.warn(msg, UndefinedMetricWarning)\n",
      "c:\\Users\\b-mor\\ACIT4620_XAI_with_ANFIS\\anfis_env\\lib\\site-packages\\sklearn\\metrics\\_regression.py:996: UndefinedMetricWarning: R^2 score is not well-defined with less than two samples.\n",
      "  warnings.warn(msg, UndefinedMetricWarning)\n"
     ]
    },
    {
     "name": "stdout",
     "output_type": "stream",
     "text": [
      "n_sets = 9\n"
     ]
    },
    {
     "name": "stderr",
     "output_type": "stream",
     "text": [
      "c:\\Users\\b-mor\\ACIT4620_XAI_with_ANFIS\\anfis_env\\lib\\site-packages\\sklearn\\metrics\\_regression.py:996: UndefinedMetricWarning: R^2 score is not well-defined with less than two samples.\n",
      "  warnings.warn(msg, UndefinedMetricWarning)\n",
      "c:\\Users\\b-mor\\ACIT4620_XAI_with_ANFIS\\anfis_env\\lib\\site-packages\\sklearn\\metrics\\_regression.py:996: UndefinedMetricWarning: R^2 score is not well-defined with less than two samples.\n",
      "  warnings.warn(msg, UndefinedMetricWarning)\n",
      "c:\\Users\\b-mor\\ACIT4620_XAI_with_ANFIS\\anfis_env\\lib\\site-packages\\sklearn\\metrics\\_regression.py:996: UndefinedMetricWarning: R^2 score is not well-defined with less than two samples.\n",
      "  warnings.warn(msg, UndefinedMetricWarning)\n"
     ]
    },
    {
     "name": "stdout",
     "output_type": "stream",
     "text": [
      "n_sets = 10\n"
     ]
    },
    {
     "name": "stderr",
     "output_type": "stream",
     "text": [
      "c:\\Users\\b-mor\\ACIT4620_XAI_with_ANFIS\\anfis_env\\lib\\site-packages\\sklearn\\metrics\\_regression.py:996: UndefinedMetricWarning: R^2 score is not well-defined with less than two samples.\n",
      "  warnings.warn(msg, UndefinedMetricWarning)\n",
      "c:\\Users\\b-mor\\ACIT4620_XAI_with_ANFIS\\anfis_env\\lib\\site-packages\\sklearn\\metrics\\_regression.py:996: UndefinedMetricWarning: R^2 score is not well-defined with less than two samples.\n",
      "  warnings.warn(msg, UndefinedMetricWarning)\n",
      "c:\\Users\\b-mor\\ACIT4620_XAI_with_ANFIS\\anfis_env\\lib\\site-packages\\sklearn\\metrics\\_regression.py:996: UndefinedMetricWarning: R^2 score is not well-defined with less than two samples.\n",
      "  warnings.warn(msg, UndefinedMetricWarning)\n"
     ]
    },
    {
     "name": "stdout",
     "output_type": "stream",
     "text": [
      "Starting run 14\n",
      "n_sets = 2\n",
      "n_sets = 3\n",
      "n_sets = 4\n",
      "n_sets = 5\n",
      "n_sets = 6\n"
     ]
    },
    {
     "name": "stderr",
     "output_type": "stream",
     "text": [
      "c:\\Users\\b-mor\\ACIT4620_XAI_with_ANFIS\\anfis_env\\lib\\site-packages\\sklearn\\metrics\\_regression.py:996: UndefinedMetricWarning: R^2 score is not well-defined with less than two samples.\n",
      "  warnings.warn(msg, UndefinedMetricWarning)\n",
      "c:\\Users\\b-mor\\ACIT4620_XAI_with_ANFIS\\anfis_env\\lib\\site-packages\\sklearn\\metrics\\_regression.py:996: UndefinedMetricWarning: R^2 score is not well-defined with less than two samples.\n",
      "  warnings.warn(msg, UndefinedMetricWarning)\n",
      "c:\\Users\\b-mor\\ACIT4620_XAI_with_ANFIS\\anfis_env\\lib\\site-packages\\sklearn\\metrics\\_regression.py:996: UndefinedMetricWarning: R^2 score is not well-defined with less than two samples.\n",
      "  warnings.warn(msg, UndefinedMetricWarning)\n"
     ]
    },
    {
     "name": "stdout",
     "output_type": "stream",
     "text": [
      "n_sets = 7\n"
     ]
    },
    {
     "name": "stderr",
     "output_type": "stream",
     "text": [
      "c:\\Users\\b-mor\\ACIT4620_XAI_with_ANFIS\\anfis_env\\lib\\site-packages\\sklearn\\metrics\\_regression.py:996: UndefinedMetricWarning: R^2 score is not well-defined with less than two samples.\n",
      "  warnings.warn(msg, UndefinedMetricWarning)\n",
      "c:\\Users\\b-mor\\ACIT4620_XAI_with_ANFIS\\anfis_env\\lib\\site-packages\\sklearn\\metrics\\_regression.py:996: UndefinedMetricWarning: R^2 score is not well-defined with less than two samples.\n",
      "  warnings.warn(msg, UndefinedMetricWarning)\n",
      "c:\\Users\\b-mor\\ACIT4620_XAI_with_ANFIS\\anfis_env\\lib\\site-packages\\sklearn\\metrics\\_regression.py:996: UndefinedMetricWarning: R^2 score is not well-defined with less than two samples.\n",
      "  warnings.warn(msg, UndefinedMetricWarning)\n"
     ]
    },
    {
     "name": "stdout",
     "output_type": "stream",
     "text": [
      "n_sets = 8\n"
     ]
    },
    {
     "name": "stderr",
     "output_type": "stream",
     "text": [
      "c:\\Users\\b-mor\\ACIT4620_XAI_with_ANFIS\\anfis_env\\lib\\site-packages\\sklearn\\metrics\\_regression.py:996: UndefinedMetricWarning: R^2 score is not well-defined with less than two samples.\n",
      "  warnings.warn(msg, UndefinedMetricWarning)\n",
      "c:\\Users\\b-mor\\ACIT4620_XAI_with_ANFIS\\anfis_env\\lib\\site-packages\\sklearn\\metrics\\_regression.py:996: UndefinedMetricWarning: R^2 score is not well-defined with less than two samples.\n",
      "  warnings.warn(msg, UndefinedMetricWarning)\n",
      "c:\\Users\\b-mor\\ACIT4620_XAI_with_ANFIS\\anfis_env\\lib\\site-packages\\sklearn\\metrics\\_regression.py:996: UndefinedMetricWarning: R^2 score is not well-defined with less than two samples.\n",
      "  warnings.warn(msg, UndefinedMetricWarning)\n"
     ]
    },
    {
     "name": "stdout",
     "output_type": "stream",
     "text": [
      "n_sets = 9\n"
     ]
    },
    {
     "name": "stderr",
     "output_type": "stream",
     "text": [
      "c:\\Users\\b-mor\\ACIT4620_XAI_with_ANFIS\\anfis_env\\lib\\site-packages\\sklearn\\metrics\\_regression.py:996: UndefinedMetricWarning: R^2 score is not well-defined with less than two samples.\n",
      "  warnings.warn(msg, UndefinedMetricWarning)\n",
      "c:\\Users\\b-mor\\ACIT4620_XAI_with_ANFIS\\anfis_env\\lib\\site-packages\\sklearn\\metrics\\_regression.py:996: UndefinedMetricWarning: R^2 score is not well-defined with less than two samples.\n",
      "  warnings.warn(msg, UndefinedMetricWarning)\n",
      "c:\\Users\\b-mor\\ACIT4620_XAI_with_ANFIS\\anfis_env\\lib\\site-packages\\sklearn\\metrics\\_regression.py:996: UndefinedMetricWarning: R^2 score is not well-defined with less than two samples.\n",
      "  warnings.warn(msg, UndefinedMetricWarning)\n"
     ]
    },
    {
     "name": "stdout",
     "output_type": "stream",
     "text": [
      "n_sets = 10\n"
     ]
    },
    {
     "name": "stderr",
     "output_type": "stream",
     "text": [
      "c:\\Users\\b-mor\\ACIT4620_XAI_with_ANFIS\\anfis_env\\lib\\site-packages\\sklearn\\metrics\\_regression.py:996: UndefinedMetricWarning: R^2 score is not well-defined with less than two samples.\n",
      "  warnings.warn(msg, UndefinedMetricWarning)\n",
      "c:\\Users\\b-mor\\ACIT4620_XAI_with_ANFIS\\anfis_env\\lib\\site-packages\\sklearn\\metrics\\_regression.py:996: UndefinedMetricWarning: R^2 score is not well-defined with less than two samples.\n",
      "  warnings.warn(msg, UndefinedMetricWarning)\n",
      "c:\\Users\\b-mor\\ACIT4620_XAI_with_ANFIS\\anfis_env\\lib\\site-packages\\sklearn\\metrics\\_regression.py:996: UndefinedMetricWarning: R^2 score is not well-defined with less than two samples.\n",
      "  warnings.warn(msg, UndefinedMetricWarning)\n"
     ]
    },
    {
     "name": "stdout",
     "output_type": "stream",
     "text": [
      "Starting run 15\n",
      "n_sets = 2\n",
      "n_sets = 3\n",
      "n_sets = 4\n",
      "n_sets = 5\n",
      "n_sets = 6\n"
     ]
    },
    {
     "name": "stderr",
     "output_type": "stream",
     "text": [
      "c:\\Users\\b-mor\\ACIT4620_XAI_with_ANFIS\\anfis_env\\lib\\site-packages\\sklearn\\metrics\\_regression.py:996: UndefinedMetricWarning: R^2 score is not well-defined with less than two samples.\n",
      "  warnings.warn(msg, UndefinedMetricWarning)\n",
      "c:\\Users\\b-mor\\ACIT4620_XAI_with_ANFIS\\anfis_env\\lib\\site-packages\\sklearn\\metrics\\_regression.py:996: UndefinedMetricWarning: R^2 score is not well-defined with less than two samples.\n",
      "  warnings.warn(msg, UndefinedMetricWarning)\n",
      "c:\\Users\\b-mor\\ACIT4620_XAI_with_ANFIS\\anfis_env\\lib\\site-packages\\sklearn\\metrics\\_regression.py:996: UndefinedMetricWarning: R^2 score is not well-defined with less than two samples.\n",
      "  warnings.warn(msg, UndefinedMetricWarning)\n"
     ]
    },
    {
     "name": "stdout",
     "output_type": "stream",
     "text": [
      "n_sets = 7\n"
     ]
    },
    {
     "name": "stderr",
     "output_type": "stream",
     "text": [
      "c:\\Users\\b-mor\\ACIT4620_XAI_with_ANFIS\\anfis_env\\lib\\site-packages\\sklearn\\metrics\\_regression.py:996: UndefinedMetricWarning: R^2 score is not well-defined with less than two samples.\n",
      "  warnings.warn(msg, UndefinedMetricWarning)\n",
      "c:\\Users\\b-mor\\ACIT4620_XAI_with_ANFIS\\anfis_env\\lib\\site-packages\\sklearn\\metrics\\_regression.py:996: UndefinedMetricWarning: R^2 score is not well-defined with less than two samples.\n",
      "  warnings.warn(msg, UndefinedMetricWarning)\n",
      "c:\\Users\\b-mor\\ACIT4620_XAI_with_ANFIS\\anfis_env\\lib\\site-packages\\sklearn\\metrics\\_regression.py:996: UndefinedMetricWarning: R^2 score is not well-defined with less than two samples.\n",
      "  warnings.warn(msg, UndefinedMetricWarning)\n"
     ]
    },
    {
     "name": "stdout",
     "output_type": "stream",
     "text": [
      "n_sets = 8\n"
     ]
    },
    {
     "name": "stderr",
     "output_type": "stream",
     "text": [
      "c:\\Users\\b-mor\\ACIT4620_XAI_with_ANFIS\\anfis_env\\lib\\site-packages\\sklearn\\metrics\\_regression.py:996: UndefinedMetricWarning: R^2 score is not well-defined with less than two samples.\n",
      "  warnings.warn(msg, UndefinedMetricWarning)\n",
      "c:\\Users\\b-mor\\ACIT4620_XAI_with_ANFIS\\anfis_env\\lib\\site-packages\\sklearn\\metrics\\_regression.py:996: UndefinedMetricWarning: R^2 score is not well-defined with less than two samples.\n",
      "  warnings.warn(msg, UndefinedMetricWarning)\n",
      "c:\\Users\\b-mor\\ACIT4620_XAI_with_ANFIS\\anfis_env\\lib\\site-packages\\sklearn\\metrics\\_regression.py:996: UndefinedMetricWarning: R^2 score is not well-defined with less than two samples.\n",
      "  warnings.warn(msg, UndefinedMetricWarning)\n"
     ]
    },
    {
     "name": "stdout",
     "output_type": "stream",
     "text": [
      "n_sets = 9\n"
     ]
    },
    {
     "name": "stderr",
     "output_type": "stream",
     "text": [
      "c:\\Users\\b-mor\\ACIT4620_XAI_with_ANFIS\\anfis_env\\lib\\site-packages\\sklearn\\metrics\\_regression.py:996: UndefinedMetricWarning: R^2 score is not well-defined with less than two samples.\n",
      "  warnings.warn(msg, UndefinedMetricWarning)\n",
      "c:\\Users\\b-mor\\ACIT4620_XAI_with_ANFIS\\anfis_env\\lib\\site-packages\\sklearn\\metrics\\_regression.py:996: UndefinedMetricWarning: R^2 score is not well-defined with less than two samples.\n",
      "  warnings.warn(msg, UndefinedMetricWarning)\n",
      "c:\\Users\\b-mor\\ACIT4620_XAI_with_ANFIS\\anfis_env\\lib\\site-packages\\sklearn\\metrics\\_regression.py:996: UndefinedMetricWarning: R^2 score is not well-defined with less than two samples.\n",
      "  warnings.warn(msg, UndefinedMetricWarning)\n"
     ]
    },
    {
     "name": "stdout",
     "output_type": "stream",
     "text": [
      "n_sets = 10\n"
     ]
    },
    {
     "name": "stderr",
     "output_type": "stream",
     "text": [
      "c:\\Users\\b-mor\\ACIT4620_XAI_with_ANFIS\\anfis_env\\lib\\site-packages\\sklearn\\metrics\\_regression.py:996: UndefinedMetricWarning: R^2 score is not well-defined with less than two samples.\n",
      "  warnings.warn(msg, UndefinedMetricWarning)\n",
      "c:\\Users\\b-mor\\ACIT4620_XAI_with_ANFIS\\anfis_env\\lib\\site-packages\\sklearn\\metrics\\_regression.py:996: UndefinedMetricWarning: R^2 score is not well-defined with less than two samples.\n",
      "  warnings.warn(msg, UndefinedMetricWarning)\n",
      "c:\\Users\\b-mor\\ACIT4620_XAI_with_ANFIS\\anfis_env\\lib\\site-packages\\sklearn\\metrics\\_regression.py:996: UndefinedMetricWarning: R^2 score is not well-defined with less than two samples.\n",
      "  warnings.warn(msg, UndefinedMetricWarning)\n"
     ]
    },
    {
     "name": "stdout",
     "output_type": "stream",
     "text": [
      "Starting run 16\n",
      "n_sets = 2\n",
      "n_sets = 3\n",
      "n_sets = 4\n",
      "n_sets = 5\n",
      "n_sets = 6\n"
     ]
    },
    {
     "name": "stderr",
     "output_type": "stream",
     "text": [
      "c:\\Users\\b-mor\\ACIT4620_XAI_with_ANFIS\\anfis_env\\lib\\site-packages\\sklearn\\metrics\\_regression.py:996: UndefinedMetricWarning: R^2 score is not well-defined with less than two samples.\n",
      "  warnings.warn(msg, UndefinedMetricWarning)\n",
      "c:\\Users\\b-mor\\ACIT4620_XAI_with_ANFIS\\anfis_env\\lib\\site-packages\\sklearn\\metrics\\_regression.py:996: UndefinedMetricWarning: R^2 score is not well-defined with less than two samples.\n",
      "  warnings.warn(msg, UndefinedMetricWarning)\n",
      "c:\\Users\\b-mor\\ACIT4620_XAI_with_ANFIS\\anfis_env\\lib\\site-packages\\sklearn\\metrics\\_regression.py:996: UndefinedMetricWarning: R^2 score is not well-defined with less than two samples.\n",
      "  warnings.warn(msg, UndefinedMetricWarning)\n"
     ]
    },
    {
     "name": "stdout",
     "output_type": "stream",
     "text": [
      "n_sets = 7\n"
     ]
    },
    {
     "name": "stderr",
     "output_type": "stream",
     "text": [
      "c:\\Users\\b-mor\\ACIT4620_XAI_with_ANFIS\\anfis_env\\lib\\site-packages\\sklearn\\metrics\\_regression.py:996: UndefinedMetricWarning: R^2 score is not well-defined with less than two samples.\n",
      "  warnings.warn(msg, UndefinedMetricWarning)\n",
      "c:\\Users\\b-mor\\ACIT4620_XAI_with_ANFIS\\anfis_env\\lib\\site-packages\\sklearn\\metrics\\_regression.py:996: UndefinedMetricWarning: R^2 score is not well-defined with less than two samples.\n",
      "  warnings.warn(msg, UndefinedMetricWarning)\n",
      "c:\\Users\\b-mor\\ACIT4620_XAI_with_ANFIS\\anfis_env\\lib\\site-packages\\sklearn\\metrics\\_regression.py:996: UndefinedMetricWarning: R^2 score is not well-defined with less than two samples.\n",
      "  warnings.warn(msg, UndefinedMetricWarning)\n"
     ]
    },
    {
     "name": "stdout",
     "output_type": "stream",
     "text": [
      "n_sets = 8\n"
     ]
    },
    {
     "name": "stderr",
     "output_type": "stream",
     "text": [
      "c:\\Users\\b-mor\\ACIT4620_XAI_with_ANFIS\\anfis_env\\lib\\site-packages\\sklearn\\metrics\\_regression.py:996: UndefinedMetricWarning: R^2 score is not well-defined with less than two samples.\n",
      "  warnings.warn(msg, UndefinedMetricWarning)\n",
      "c:\\Users\\b-mor\\ACIT4620_XAI_with_ANFIS\\anfis_env\\lib\\site-packages\\sklearn\\metrics\\_regression.py:996: UndefinedMetricWarning: R^2 score is not well-defined with less than two samples.\n",
      "  warnings.warn(msg, UndefinedMetricWarning)\n",
      "c:\\Users\\b-mor\\ACIT4620_XAI_with_ANFIS\\anfis_env\\lib\\site-packages\\sklearn\\metrics\\_regression.py:996: UndefinedMetricWarning: R^2 score is not well-defined with less than two samples.\n",
      "  warnings.warn(msg, UndefinedMetricWarning)\n"
     ]
    },
    {
     "name": "stdout",
     "output_type": "stream",
     "text": [
      "n_sets = 9\n"
     ]
    },
    {
     "name": "stderr",
     "output_type": "stream",
     "text": [
      "c:\\Users\\b-mor\\ACIT4620_XAI_with_ANFIS\\anfis_env\\lib\\site-packages\\sklearn\\metrics\\_regression.py:996: UndefinedMetricWarning: R^2 score is not well-defined with less than two samples.\n",
      "  warnings.warn(msg, UndefinedMetricWarning)\n",
      "c:\\Users\\b-mor\\ACIT4620_XAI_with_ANFIS\\anfis_env\\lib\\site-packages\\sklearn\\metrics\\_regression.py:996: UndefinedMetricWarning: R^2 score is not well-defined with less than two samples.\n",
      "  warnings.warn(msg, UndefinedMetricWarning)\n",
      "c:\\Users\\b-mor\\ACIT4620_XAI_with_ANFIS\\anfis_env\\lib\\site-packages\\sklearn\\metrics\\_regression.py:996: UndefinedMetricWarning: R^2 score is not well-defined with less than two samples.\n",
      "  warnings.warn(msg, UndefinedMetricWarning)\n"
     ]
    },
    {
     "name": "stdout",
     "output_type": "stream",
     "text": [
      "n_sets = 10\n"
     ]
    },
    {
     "name": "stderr",
     "output_type": "stream",
     "text": [
      "c:\\Users\\b-mor\\ACIT4620_XAI_with_ANFIS\\anfis_env\\lib\\site-packages\\sklearn\\metrics\\_regression.py:996: UndefinedMetricWarning: R^2 score is not well-defined with less than two samples.\n",
      "  warnings.warn(msg, UndefinedMetricWarning)\n",
      "c:\\Users\\b-mor\\ACIT4620_XAI_with_ANFIS\\anfis_env\\lib\\site-packages\\sklearn\\metrics\\_regression.py:996: UndefinedMetricWarning: R^2 score is not well-defined with less than two samples.\n",
      "  warnings.warn(msg, UndefinedMetricWarning)\n",
      "c:\\Users\\b-mor\\ACIT4620_XAI_with_ANFIS\\anfis_env\\lib\\site-packages\\sklearn\\metrics\\_regression.py:996: UndefinedMetricWarning: R^2 score is not well-defined with less than two samples.\n",
      "  warnings.warn(msg, UndefinedMetricWarning)\n"
     ]
    },
    {
     "name": "stdout",
     "output_type": "stream",
     "text": [
      "Starting run 17\n",
      "n_sets = 2\n",
      "n_sets = 3\n",
      "n_sets = 4\n",
      "n_sets = 5\n",
      "n_sets = 6\n"
     ]
    },
    {
     "name": "stderr",
     "output_type": "stream",
     "text": [
      "c:\\Users\\b-mor\\ACIT4620_XAI_with_ANFIS\\anfis_env\\lib\\site-packages\\sklearn\\metrics\\_regression.py:996: UndefinedMetricWarning: R^2 score is not well-defined with less than two samples.\n",
      "  warnings.warn(msg, UndefinedMetricWarning)\n",
      "c:\\Users\\b-mor\\ACIT4620_XAI_with_ANFIS\\anfis_env\\lib\\site-packages\\sklearn\\metrics\\_regression.py:996: UndefinedMetricWarning: R^2 score is not well-defined with less than two samples.\n",
      "  warnings.warn(msg, UndefinedMetricWarning)\n",
      "c:\\Users\\b-mor\\ACIT4620_XAI_with_ANFIS\\anfis_env\\lib\\site-packages\\sklearn\\metrics\\_regression.py:996: UndefinedMetricWarning: R^2 score is not well-defined with less than two samples.\n",
      "  warnings.warn(msg, UndefinedMetricWarning)\n"
     ]
    },
    {
     "name": "stdout",
     "output_type": "stream",
     "text": [
      "n_sets = 7\n"
     ]
    },
    {
     "name": "stderr",
     "output_type": "stream",
     "text": [
      "c:\\Users\\b-mor\\ACIT4620_XAI_with_ANFIS\\anfis_env\\lib\\site-packages\\sklearn\\metrics\\_regression.py:996: UndefinedMetricWarning: R^2 score is not well-defined with less than two samples.\n",
      "  warnings.warn(msg, UndefinedMetricWarning)\n",
      "c:\\Users\\b-mor\\ACIT4620_XAI_with_ANFIS\\anfis_env\\lib\\site-packages\\sklearn\\metrics\\_regression.py:996: UndefinedMetricWarning: R^2 score is not well-defined with less than two samples.\n",
      "  warnings.warn(msg, UndefinedMetricWarning)\n",
      "c:\\Users\\b-mor\\ACIT4620_XAI_with_ANFIS\\anfis_env\\lib\\site-packages\\sklearn\\metrics\\_regression.py:996: UndefinedMetricWarning: R^2 score is not well-defined with less than two samples.\n",
      "  warnings.warn(msg, UndefinedMetricWarning)\n"
     ]
    },
    {
     "name": "stdout",
     "output_type": "stream",
     "text": [
      "n_sets = 8\n"
     ]
    },
    {
     "name": "stderr",
     "output_type": "stream",
     "text": [
      "c:\\Users\\b-mor\\ACIT4620_XAI_with_ANFIS\\anfis_env\\lib\\site-packages\\sklearn\\metrics\\_regression.py:996: UndefinedMetricWarning: R^2 score is not well-defined with less than two samples.\n",
      "  warnings.warn(msg, UndefinedMetricWarning)\n",
      "c:\\Users\\b-mor\\ACIT4620_XAI_with_ANFIS\\anfis_env\\lib\\site-packages\\sklearn\\metrics\\_regression.py:996: UndefinedMetricWarning: R^2 score is not well-defined with less than two samples.\n",
      "  warnings.warn(msg, UndefinedMetricWarning)\n",
      "c:\\Users\\b-mor\\ACIT4620_XAI_with_ANFIS\\anfis_env\\lib\\site-packages\\sklearn\\metrics\\_regression.py:996: UndefinedMetricWarning: R^2 score is not well-defined with less than two samples.\n",
      "  warnings.warn(msg, UndefinedMetricWarning)\n"
     ]
    },
    {
     "name": "stdout",
     "output_type": "stream",
     "text": [
      "n_sets = 9\n"
     ]
    },
    {
     "name": "stderr",
     "output_type": "stream",
     "text": [
      "c:\\Users\\b-mor\\ACIT4620_XAI_with_ANFIS\\anfis_env\\lib\\site-packages\\sklearn\\metrics\\_regression.py:996: UndefinedMetricWarning: R^2 score is not well-defined with less than two samples.\n",
      "  warnings.warn(msg, UndefinedMetricWarning)\n",
      "c:\\Users\\b-mor\\ACIT4620_XAI_with_ANFIS\\anfis_env\\lib\\site-packages\\sklearn\\metrics\\_regression.py:996: UndefinedMetricWarning: R^2 score is not well-defined with less than two samples.\n",
      "  warnings.warn(msg, UndefinedMetricWarning)\n",
      "c:\\Users\\b-mor\\ACIT4620_XAI_with_ANFIS\\anfis_env\\lib\\site-packages\\sklearn\\metrics\\_regression.py:996: UndefinedMetricWarning: R^2 score is not well-defined with less than two samples.\n",
      "  warnings.warn(msg, UndefinedMetricWarning)\n"
     ]
    },
    {
     "name": "stdout",
     "output_type": "stream",
     "text": [
      "n_sets = 10\n"
     ]
    },
    {
     "name": "stderr",
     "output_type": "stream",
     "text": [
      "c:\\Users\\b-mor\\ACIT4620_XAI_with_ANFIS\\anfis_env\\lib\\site-packages\\sklearn\\metrics\\_regression.py:996: UndefinedMetricWarning: R^2 score is not well-defined with less than two samples.\n",
      "  warnings.warn(msg, UndefinedMetricWarning)\n",
      "c:\\Users\\b-mor\\ACIT4620_XAI_with_ANFIS\\anfis_env\\lib\\site-packages\\sklearn\\metrics\\_regression.py:996: UndefinedMetricWarning: R^2 score is not well-defined with less than two samples.\n",
      "  warnings.warn(msg, UndefinedMetricWarning)\n",
      "c:\\Users\\b-mor\\ACIT4620_XAI_with_ANFIS\\anfis_env\\lib\\site-packages\\sklearn\\metrics\\_regression.py:996: UndefinedMetricWarning: R^2 score is not well-defined with less than two samples.\n",
      "  warnings.warn(msg, UndefinedMetricWarning)\n"
     ]
    },
    {
     "name": "stdout",
     "output_type": "stream",
     "text": [
      "Starting run 18\n",
      "n_sets = 2\n",
      "n_sets = 3\n",
      "n_sets = 4\n",
      "n_sets = 5\n",
      "n_sets = 6\n"
     ]
    },
    {
     "name": "stderr",
     "output_type": "stream",
     "text": [
      "c:\\Users\\b-mor\\ACIT4620_XAI_with_ANFIS\\anfis_env\\lib\\site-packages\\sklearn\\metrics\\_regression.py:996: UndefinedMetricWarning: R^2 score is not well-defined with less than two samples.\n",
      "  warnings.warn(msg, UndefinedMetricWarning)\n",
      "c:\\Users\\b-mor\\ACIT4620_XAI_with_ANFIS\\anfis_env\\lib\\site-packages\\sklearn\\metrics\\_regression.py:996: UndefinedMetricWarning: R^2 score is not well-defined with less than two samples.\n",
      "  warnings.warn(msg, UndefinedMetricWarning)\n",
      "c:\\Users\\b-mor\\ACIT4620_XAI_with_ANFIS\\anfis_env\\lib\\site-packages\\sklearn\\metrics\\_regression.py:996: UndefinedMetricWarning: R^2 score is not well-defined with less than two samples.\n",
      "  warnings.warn(msg, UndefinedMetricWarning)\n"
     ]
    },
    {
     "name": "stdout",
     "output_type": "stream",
     "text": [
      "n_sets = 7\n"
     ]
    },
    {
     "name": "stderr",
     "output_type": "stream",
     "text": [
      "c:\\Users\\b-mor\\ACIT4620_XAI_with_ANFIS\\anfis_env\\lib\\site-packages\\sklearn\\metrics\\_regression.py:996: UndefinedMetricWarning: R^2 score is not well-defined with less than two samples.\n",
      "  warnings.warn(msg, UndefinedMetricWarning)\n",
      "c:\\Users\\b-mor\\ACIT4620_XAI_with_ANFIS\\anfis_env\\lib\\site-packages\\sklearn\\metrics\\_regression.py:996: UndefinedMetricWarning: R^2 score is not well-defined with less than two samples.\n",
      "  warnings.warn(msg, UndefinedMetricWarning)\n",
      "c:\\Users\\b-mor\\ACIT4620_XAI_with_ANFIS\\anfis_env\\lib\\site-packages\\sklearn\\metrics\\_regression.py:996: UndefinedMetricWarning: R^2 score is not well-defined with less than two samples.\n",
      "  warnings.warn(msg, UndefinedMetricWarning)\n"
     ]
    },
    {
     "name": "stdout",
     "output_type": "stream",
     "text": [
      "n_sets = 8\n"
     ]
    },
    {
     "name": "stderr",
     "output_type": "stream",
     "text": [
      "c:\\Users\\b-mor\\ACIT4620_XAI_with_ANFIS\\anfis_env\\lib\\site-packages\\sklearn\\metrics\\_regression.py:996: UndefinedMetricWarning: R^2 score is not well-defined with less than two samples.\n",
      "  warnings.warn(msg, UndefinedMetricWarning)\n",
      "c:\\Users\\b-mor\\ACIT4620_XAI_with_ANFIS\\anfis_env\\lib\\site-packages\\sklearn\\metrics\\_regression.py:996: UndefinedMetricWarning: R^2 score is not well-defined with less than two samples.\n",
      "  warnings.warn(msg, UndefinedMetricWarning)\n",
      "c:\\Users\\b-mor\\ACIT4620_XAI_with_ANFIS\\anfis_env\\lib\\site-packages\\sklearn\\metrics\\_regression.py:996: UndefinedMetricWarning: R^2 score is not well-defined with less than two samples.\n",
      "  warnings.warn(msg, UndefinedMetricWarning)\n"
     ]
    },
    {
     "name": "stdout",
     "output_type": "stream",
     "text": [
      "n_sets = 9\n"
     ]
    },
    {
     "name": "stderr",
     "output_type": "stream",
     "text": [
      "c:\\Users\\b-mor\\ACIT4620_XAI_with_ANFIS\\anfis_env\\lib\\site-packages\\sklearn\\metrics\\_regression.py:996: UndefinedMetricWarning: R^2 score is not well-defined with less than two samples.\n",
      "  warnings.warn(msg, UndefinedMetricWarning)\n",
      "c:\\Users\\b-mor\\ACIT4620_XAI_with_ANFIS\\anfis_env\\lib\\site-packages\\sklearn\\metrics\\_regression.py:996: UndefinedMetricWarning: R^2 score is not well-defined with less than two samples.\n",
      "  warnings.warn(msg, UndefinedMetricWarning)\n",
      "c:\\Users\\b-mor\\ACIT4620_XAI_with_ANFIS\\anfis_env\\lib\\site-packages\\sklearn\\metrics\\_regression.py:996: UndefinedMetricWarning: R^2 score is not well-defined with less than two samples.\n",
      "  warnings.warn(msg, UndefinedMetricWarning)\n"
     ]
    },
    {
     "name": "stdout",
     "output_type": "stream",
     "text": [
      "n_sets = 10\n"
     ]
    },
    {
     "name": "stderr",
     "output_type": "stream",
     "text": [
      "c:\\Users\\b-mor\\ACIT4620_XAI_with_ANFIS\\anfis_env\\lib\\site-packages\\sklearn\\metrics\\_regression.py:996: UndefinedMetricWarning: R^2 score is not well-defined with less than two samples.\n",
      "  warnings.warn(msg, UndefinedMetricWarning)\n",
      "c:\\Users\\b-mor\\ACIT4620_XAI_with_ANFIS\\anfis_env\\lib\\site-packages\\sklearn\\metrics\\_regression.py:996: UndefinedMetricWarning: R^2 score is not well-defined with less than two samples.\n",
      "  warnings.warn(msg, UndefinedMetricWarning)\n",
      "c:\\Users\\b-mor\\ACIT4620_XAI_with_ANFIS\\anfis_env\\lib\\site-packages\\sklearn\\metrics\\_regression.py:996: UndefinedMetricWarning: R^2 score is not well-defined with less than two samples.\n",
      "  warnings.warn(msg, UndefinedMetricWarning)\n"
     ]
    },
    {
     "name": "stdout",
     "output_type": "stream",
     "text": [
      "Starting run 19\n",
      "n_sets = 2\n",
      "n_sets = 3\n",
      "n_sets = 4\n",
      "n_sets = 5\n",
      "n_sets = 6\n"
     ]
    },
    {
     "name": "stderr",
     "output_type": "stream",
     "text": [
      "c:\\Users\\b-mor\\ACIT4620_XAI_with_ANFIS\\anfis_env\\lib\\site-packages\\sklearn\\metrics\\_regression.py:996: UndefinedMetricWarning: R^2 score is not well-defined with less than two samples.\n",
      "  warnings.warn(msg, UndefinedMetricWarning)\n",
      "c:\\Users\\b-mor\\ACIT4620_XAI_with_ANFIS\\anfis_env\\lib\\site-packages\\sklearn\\metrics\\_regression.py:996: UndefinedMetricWarning: R^2 score is not well-defined with less than two samples.\n",
      "  warnings.warn(msg, UndefinedMetricWarning)\n",
      "c:\\Users\\b-mor\\ACIT4620_XAI_with_ANFIS\\anfis_env\\lib\\site-packages\\sklearn\\metrics\\_regression.py:996: UndefinedMetricWarning: R^2 score is not well-defined with less than two samples.\n",
      "  warnings.warn(msg, UndefinedMetricWarning)\n"
     ]
    },
    {
     "name": "stdout",
     "output_type": "stream",
     "text": [
      "n_sets = 7\n"
     ]
    },
    {
     "name": "stderr",
     "output_type": "stream",
     "text": [
      "c:\\Users\\b-mor\\ACIT4620_XAI_with_ANFIS\\anfis_env\\lib\\site-packages\\sklearn\\metrics\\_regression.py:996: UndefinedMetricWarning: R^2 score is not well-defined with less than two samples.\n",
      "  warnings.warn(msg, UndefinedMetricWarning)\n",
      "c:\\Users\\b-mor\\ACIT4620_XAI_with_ANFIS\\anfis_env\\lib\\site-packages\\sklearn\\metrics\\_regression.py:996: UndefinedMetricWarning: R^2 score is not well-defined with less than two samples.\n",
      "  warnings.warn(msg, UndefinedMetricWarning)\n",
      "c:\\Users\\b-mor\\ACIT4620_XAI_with_ANFIS\\anfis_env\\lib\\site-packages\\sklearn\\metrics\\_regression.py:996: UndefinedMetricWarning: R^2 score is not well-defined with less than two samples.\n",
      "  warnings.warn(msg, UndefinedMetricWarning)\n"
     ]
    },
    {
     "name": "stdout",
     "output_type": "stream",
     "text": [
      "n_sets = 8\n"
     ]
    },
    {
     "name": "stderr",
     "output_type": "stream",
     "text": [
      "c:\\Users\\b-mor\\ACIT4620_XAI_with_ANFIS\\anfis_env\\lib\\site-packages\\sklearn\\metrics\\_regression.py:996: UndefinedMetricWarning: R^2 score is not well-defined with less than two samples.\n",
      "  warnings.warn(msg, UndefinedMetricWarning)\n",
      "c:\\Users\\b-mor\\ACIT4620_XAI_with_ANFIS\\anfis_env\\lib\\site-packages\\sklearn\\metrics\\_regression.py:996: UndefinedMetricWarning: R^2 score is not well-defined with less than two samples.\n",
      "  warnings.warn(msg, UndefinedMetricWarning)\n",
      "c:\\Users\\b-mor\\ACIT4620_XAI_with_ANFIS\\anfis_env\\lib\\site-packages\\sklearn\\metrics\\_regression.py:996: UndefinedMetricWarning: R^2 score is not well-defined with less than two samples.\n",
      "  warnings.warn(msg, UndefinedMetricWarning)\n"
     ]
    },
    {
     "name": "stdout",
     "output_type": "stream",
     "text": [
      "n_sets = 9\n"
     ]
    },
    {
     "name": "stderr",
     "output_type": "stream",
     "text": [
      "c:\\Users\\b-mor\\ACIT4620_XAI_with_ANFIS\\anfis_env\\lib\\site-packages\\sklearn\\metrics\\_regression.py:996: UndefinedMetricWarning: R^2 score is not well-defined with less than two samples.\n",
      "  warnings.warn(msg, UndefinedMetricWarning)\n",
      "c:\\Users\\b-mor\\ACIT4620_XAI_with_ANFIS\\anfis_env\\lib\\site-packages\\sklearn\\metrics\\_regression.py:996: UndefinedMetricWarning: R^2 score is not well-defined with less than two samples.\n",
      "  warnings.warn(msg, UndefinedMetricWarning)\n",
      "c:\\Users\\b-mor\\ACIT4620_XAI_with_ANFIS\\anfis_env\\lib\\site-packages\\sklearn\\metrics\\_regression.py:996: UndefinedMetricWarning: R^2 score is not well-defined with less than two samples.\n",
      "  warnings.warn(msg, UndefinedMetricWarning)\n"
     ]
    },
    {
     "name": "stdout",
     "output_type": "stream",
     "text": [
      "n_sets = 10\n"
     ]
    },
    {
     "name": "stderr",
     "output_type": "stream",
     "text": [
      "c:\\Users\\b-mor\\ACIT4620_XAI_with_ANFIS\\anfis_env\\lib\\site-packages\\sklearn\\metrics\\_regression.py:996: UndefinedMetricWarning: R^2 score is not well-defined with less than two samples.\n",
      "  warnings.warn(msg, UndefinedMetricWarning)\n",
      "c:\\Users\\b-mor\\ACIT4620_XAI_with_ANFIS\\anfis_env\\lib\\site-packages\\sklearn\\metrics\\_regression.py:996: UndefinedMetricWarning: R^2 score is not well-defined with less than two samples.\n",
      "  warnings.warn(msg, UndefinedMetricWarning)\n",
      "c:\\Users\\b-mor\\ACIT4620_XAI_with_ANFIS\\anfis_env\\lib\\site-packages\\sklearn\\metrics\\_regression.py:996: UndefinedMetricWarning: R^2 score is not well-defined with less than two samples.\n",
      "  warnings.warn(msg, UndefinedMetricWarning)\n"
     ]
    }
   ],
   "source": [
    "cluster_list_custom_training = [[] for n_sets in cluster_numbers]\n",
    "cluster_list_custom_test = [[] for n_sets in cluster_numbers]\n",
    "for quantile_number in quantile_numbers:\n",
    "     for i in range(len(cluster_numbers)):\n",
    "          cluster_list_custom_training[i].append([])\n",
    "          cluster_list_custom_test[i].append([])\n",
    "\n",
    "\n",
    "custom_timer = time.time()\n",
    "for run in range(n_runs):\n",
    "     print(f\"Starting run {run}\")\n",
    "     cur_clusters_pyfume = {}\n",
    "     cur_clusters_custom = {}\n",
    "     for i, n_fuzzy_sets in enumerate(cluster_numbers):\n",
    "          print(f\"n_sets = {n_fuzzy_sets}\")\n",
    "          for j, quantile_number in enumerate(quantile_numbers):\n",
    "               cur_tsk_model = TSKModel()\n",
    "               cur_tsk_model.create_rulebase_kmeans(train_data_custom, n_fuzzy_sets=n_fuzzy_sets, expressions=expressions, trap_quantile=quantile_number)\n",
    "               cluster_list_custom_training[i][j].append(cur_tsk_model.calculate_rmse(train_data_custom))\n",
    "               cluster_list_custom_test[i][j].append(cur_tsk_model.calculate_rmse(test_data_custom))\n",
    "               \n",
    "custom_timer = time.time() - custom_timer"
   ]
  },
  {
   "cell_type": "code",
   "execution_count": 9,
   "metadata": {},
   "outputs": [
    {
     "data": {
      "text/plain": [
       "(9, 3, 20)"
      ]
     },
     "execution_count": 9,
     "metadata": {},
     "output_type": "execute_result"
    }
   ],
   "source": [
    "np.array(cluster_list_custom_training).shape\n"
   ]
  },
  {
   "cell_type": "code",
   "execution_count": 10,
   "metadata": {},
   "outputs": [
    {
     "data": {
      "text/plain": [
       "(9, 3, 20)"
      ]
     },
     "execution_count": 10,
     "metadata": {},
     "output_type": "execute_result"
    }
   ],
   "source": [
    "np.array(cluster_list_custom_test).shape"
   ]
  },
  {
   "cell_type": "code",
   "execution_count": 11,
   "metadata": {},
   "outputs": [
    {
     "data": {
      "text/plain": [
       "(9, 20)"
      ]
     },
     "execution_count": 11,
     "metadata": {},
     "output_type": "execute_result"
    }
   ],
   "source": [
    "np.array(cluster_list_pyfume_training).shape"
   ]
  },
  {
   "cell_type": "code",
   "execution_count": 12,
   "metadata": {},
   "outputs": [
    {
     "data": {
      "text/plain": [
       "(9, 20)"
      ]
     },
     "execution_count": 12,
     "metadata": {},
     "output_type": "execute_result"
    }
   ],
   "source": [
    "np.array(cluster_list_pyfume_test).shape"
   ]
  },
  {
   "cell_type": "markdown",
   "metadata": {},
   "source": [
    "The model results are aggregated and cleaned up"
   ]
  },
  {
   "cell_type": "code",
   "execution_count": 13,
   "metadata": {},
   "outputs": [],
   "source": [
    "log = {\n",
    "    (\"labels\",\"n_sets\") : [], \n",
    "    (\"labels\", \"statistic_measures\",) : [], \n",
    "    (\"pyFume\", \"train_pyFume\") : [], \n",
    "    (\"pyFume\", \"test_pyFume\") : [], \n",
    "    }\n",
    "for q in quantile_numbers:\n",
    "    log[(\"test_custom\", f\"q_{q}\")] = []\n",
    "    \n",
    "for q in quantile_numbers:\n",
    "    log[(\"train_custom\", f\"q_{q}\")] = []\n",
    "\n",
    "for i, cluster_number in enumerate(cluster_numbers):\n",
    "    for name, measure in {\"Min\" : np.min, \"Max\" : np.max, \"Std\" : np.std, \"Mean\" : np.mean}.items():\n",
    "        log[(\"labels\", \"n_sets\")].append(cluster_number)\n",
    "        log[(\"labels\", \"statistic_measures\")].append(name)\n",
    "        log[(\"pyFume\", \"train_pyFume\")].append(measure(cluster_list_pyfume_training[i]))\n",
    "        log[(\"pyFume\", \"test_pyFume\")].append(measure(cluster_list_pyfume_test[i]))\n",
    "        for j, q in enumerate(quantile_numbers):\n",
    "            log[(\"train_custom\", f\"q_{q}\")].append(measure(cluster_list_custom_training[i][j]))\n",
    "            log[(\"test_custom\", f\"q_{q}\")].append(measure(cluster_list_custom_test[i][j]))       \n"
   ]
  },
  {
   "cell_type": "markdown",
   "metadata": {},
   "source": [
    "Printing results"
   ]
  },
  {
   "cell_type": "code",
   "execution_count": 14,
   "metadata": {},
   "outputs": [
    {
     "name": "stdout",
     "output_type": "stream",
     "text": [
      "Runtime for custom implementation: 484.0734 s\n",
      "Runtime for pyFume implementation: 311.1125 s\n",
      "Number of runs per parameterset: 20\n"
     ]
    },
    {
     "data": {
      "text/html": [
       "<div>\n",
       "<style scoped>\n",
       "    .dataframe tbody tr th:only-of-type {\n",
       "        vertical-align: middle;\n",
       "    }\n",
       "\n",
       "    .dataframe tbody tr th {\n",
       "        vertical-align: top;\n",
       "    }\n",
       "\n",
       "    .dataframe thead tr th {\n",
       "        text-align: left;\n",
       "    }\n",
       "\n",
       "    .dataframe thead tr:last-of-type th {\n",
       "        text-align: right;\n",
       "    }\n",
       "</style>\n",
       "<table border=\"1\" class=\"dataframe\">\n",
       "  <thead>\n",
       "    <tr>\n",
       "      <th></th>\n",
       "      <th></th>\n",
       "      <th colspan=\"2\" halign=\"left\">pyFume</th>\n",
       "      <th colspan=\"3\" halign=\"left\">test_custom</th>\n",
       "      <th colspan=\"3\" halign=\"left\">train_custom</th>\n",
       "    </tr>\n",
       "    <tr>\n",
       "      <th></th>\n",
       "      <th></th>\n",
       "      <th>train_pyFume</th>\n",
       "      <th>test_pyFume</th>\n",
       "      <th>q_0.2</th>\n",
       "      <th>q_0.4</th>\n",
       "      <th>q_0.6</th>\n",
       "      <th>q_0.2</th>\n",
       "      <th>q_0.4</th>\n",
       "      <th>q_0.6</th>\n",
       "    </tr>\n",
       "    <tr>\n",
       "      <th>n_sets</th>\n",
       "      <th>statistic_measures</th>\n",
       "      <th></th>\n",
       "      <th></th>\n",
       "      <th></th>\n",
       "      <th></th>\n",
       "      <th></th>\n",
       "      <th></th>\n",
       "      <th></th>\n",
       "      <th></th>\n",
       "    </tr>\n",
       "  </thead>\n",
       "  <tbody>\n",
       "    <tr>\n",
       "      <th rowspan=\"4\" valign=\"top\">2</th>\n",
       "      <th>Min</th>\n",
       "      <td>0.190334</td>\n",
       "      <td>0.220855</td>\n",
       "      <td>0.220846</td>\n",
       "      <td>2.208354e-01</td>\n",
       "      <td>0.220835</td>\n",
       "      <td>0.208826</td>\n",
       "      <td>2.088259e-01</td>\n",
       "      <td>0.208765</td>\n",
       "    </tr>\n",
       "    <tr>\n",
       "      <th>Max</th>\n",
       "      <td>0.228402</td>\n",
       "      <td>0.222151</td>\n",
       "      <td>0.221092</td>\n",
       "      <td>2.210915e-01</td>\n",
       "      <td>0.221514</td>\n",
       "      <td>0.208842</td>\n",
       "      <td>2.088485e-01</td>\n",
       "      <td>0.208881</td>\n",
       "    </tr>\n",
       "    <tr>\n",
       "      <th>Std</th>\n",
       "      <td>0.008754</td>\n",
       "      <td>0.000368</td>\n",
       "      <td>0.000053</td>\n",
       "      <td>5.366673e-05</td>\n",
       "      <td>0.000197</td>\n",
       "      <td>0.000003</td>\n",
       "      <td>3.810409e-06</td>\n",
       "      <td>0.000020</td>\n",
       "    </tr>\n",
       "    <tr>\n",
       "      <th>Mean</th>\n",
       "      <td>0.208881</td>\n",
       "      <td>0.221612</td>\n",
       "      <td>0.220858</td>\n",
       "      <td>2.208578e-01</td>\n",
       "      <td>0.220936</td>\n",
       "      <td>0.208841</td>\n",
       "      <td>2.088412e-01</td>\n",
       "      <td>0.208838</td>\n",
       "    </tr>\n",
       "    <tr>\n",
       "      <th rowspan=\"4\" valign=\"top\">3</th>\n",
       "      <th>Min</th>\n",
       "      <td>0.185669</td>\n",
       "      <td>0.220621</td>\n",
       "      <td>0.219904</td>\n",
       "      <td>2.199038e-01</td>\n",
       "      <td>0.219904</td>\n",
       "      <td>0.207530</td>\n",
       "      <td>2.075296e-01</td>\n",
       "      <td>0.207530</td>\n",
       "    </tr>\n",
       "    <tr>\n",
       "      <th>Max</th>\n",
       "      <td>0.223902</td>\n",
       "      <td>0.222152</td>\n",
       "      <td>0.219970</td>\n",
       "      <td>2.199699e-01</td>\n",
       "      <td>0.219970</td>\n",
       "      <td>0.207648</td>\n",
       "      <td>2.076476e-01</td>\n",
       "      <td>0.207648</td>\n",
       "    </tr>\n",
       "    <tr>\n",
       "      <th>Std</th>\n",
       "      <td>0.010137</td>\n",
       "      <td>0.000378</td>\n",
       "      <td>0.000032</td>\n",
       "      <td>3.235729e-05</td>\n",
       "      <td>0.000032</td>\n",
       "      <td>0.000058</td>\n",
       "      <td>5.782320e-05</td>\n",
       "      <td>0.000056</td>\n",
       "    </tr>\n",
       "    <tr>\n",
       "      <th>Mean</th>\n",
       "      <td>0.207419</td>\n",
       "      <td>0.221509</td>\n",
       "      <td>0.219930</td>\n",
       "      <td>2.199302e-01</td>\n",
       "      <td>0.219927</td>\n",
       "      <td>0.207577</td>\n",
       "      <td>2.075768e-01</td>\n",
       "      <td>0.207571</td>\n",
       "    </tr>\n",
       "    <tr>\n",
       "      <th rowspan=\"4\" valign=\"top\">4</th>\n",
       "      <th>Min</th>\n",
       "      <td>0.183946</td>\n",
       "      <td>0.218508</td>\n",
       "      <td>0.218524</td>\n",
       "      <td>2.185244e-01</td>\n",
       "      <td>0.218379</td>\n",
       "      <td>0.206369</td>\n",
       "      <td>2.065190e-01</td>\n",
       "      <td>0.206354</td>\n",
       "    </tr>\n",
       "    <tr>\n",
       "      <th>Max</th>\n",
       "      <td>0.225969</td>\n",
       "      <td>0.222438</td>\n",
       "      <td>0.218670</td>\n",
       "      <td>2.185244e-01</td>\n",
       "      <td>0.218524</td>\n",
       "      <td>0.206519</td>\n",
       "      <td>2.065190e-01</td>\n",
       "      <td>0.206519</td>\n",
       "    </tr>\n",
       "    <tr>\n",
       "      <th>Std</th>\n",
       "      <td>0.011635</td>\n",
       "      <td>0.000923</td>\n",
       "      <td>0.000032</td>\n",
       "      <td>2.775558e-17</td>\n",
       "      <td>0.000032</td>\n",
       "      <td>0.000033</td>\n",
       "      <td>2.775558e-17</td>\n",
       "      <td>0.000036</td>\n",
       "    </tr>\n",
       "    <tr>\n",
       "      <th>Mean</th>\n",
       "      <td>0.209857</td>\n",
       "      <td>0.220260</td>\n",
       "      <td>0.218532</td>\n",
       "      <td>2.185244e-01</td>\n",
       "      <td>0.218517</td>\n",
       "      <td>0.206512</td>\n",
       "      <td>2.065190e-01</td>\n",
       "      <td>0.206511</td>\n",
       "    </tr>\n",
       "    <tr>\n",
       "      <th rowspan=\"4\" valign=\"top\">5</th>\n",
       "      <th>Min</th>\n",
       "      <td>0.186807</td>\n",
       "      <td>0.217730</td>\n",
       "      <td>0.217798</td>\n",
       "      <td>2.177983e-01</td>\n",
       "      <td>0.215813</td>\n",
       "      <td>0.204797</td>\n",
       "      <td>2.047968e-01</td>\n",
       "      <td>0.204608</td>\n",
       "    </tr>\n",
       "    <tr>\n",
       "      <th>Max</th>\n",
       "      <td>0.226175</td>\n",
       "      <td>0.221652</td>\n",
       "      <td>0.220033</td>\n",
       "      <td>2.201375e-01</td>\n",
       "      <td>0.220033</td>\n",
       "      <td>0.206225</td>\n",
       "      <td>2.062252e-01</td>\n",
       "      <td>0.206225</td>\n",
       "    </tr>\n",
       "    <tr>\n",
       "      <th>Std</th>\n",
       "      <td>0.011454</td>\n",
       "      <td>0.000978</td>\n",
       "      <td>0.000785</td>\n",
       "      <td>7.082101e-04</td>\n",
       "      <td>0.001034</td>\n",
       "      <td>0.000391</td>\n",
       "      <td>2.917145e-04</td>\n",
       "      <td>0.000433</td>\n",
       "    </tr>\n",
       "    <tr>\n",
       "      <th>Mean</th>\n",
       "      <td>0.204708</td>\n",
       "      <td>0.218922</td>\n",
       "      <td>0.218873</td>\n",
       "      <td>2.193209e-01</td>\n",
       "      <td>0.218950</td>\n",
       "      <td>0.205532</td>\n",
       "      <td>2.057409e-01</td>\n",
       "      <td>0.205546</td>\n",
       "    </tr>\n",
       "    <tr>\n",
       "      <th rowspan=\"4\" valign=\"top\">6</th>\n",
       "      <th>Min</th>\n",
       "      <td>0.178773</td>\n",
       "      <td>0.216658</td>\n",
       "      <td>0.217663</td>\n",
       "      <td>2.176631e-01</td>\n",
       "      <td>0.217610</td>\n",
       "      <td>0.205051</td>\n",
       "      <td>2.049549e-01</td>\n",
       "      <td>0.204955</td>\n",
       "    </tr>\n",
       "    <tr>\n",
       "      <th>Max</th>\n",
       "      <td>0.241952</td>\n",
       "      <td>0.220355</td>\n",
       "      <td>0.220747</td>\n",
       "      <td>2.207474e-01</td>\n",
       "      <td>0.221178</td>\n",
       "      <td>0.205555</td>\n",
       "      <td>2.058702e-01</td>\n",
       "      <td>0.205714</td>\n",
       "    </tr>\n",
       "    <tr>\n",
       "      <th>Std</th>\n",
       "      <td>0.013910</td>\n",
       "      <td>0.001020</td>\n",
       "      <td>0.001052</td>\n",
       "      <td>1.057408e-03</td>\n",
       "      <td>0.000978</td>\n",
       "      <td>0.000152</td>\n",
       "      <td>1.905308e-04</td>\n",
       "      <td>0.000165</td>\n",
       "    </tr>\n",
       "    <tr>\n",
       "      <th>Mean</th>\n",
       "      <td>0.209563</td>\n",
       "      <td>0.218721</td>\n",
       "      <td>0.218841</td>\n",
       "      <td>2.189571e-01</td>\n",
       "      <td>0.218722</td>\n",
       "      <td>0.205200</td>\n",
       "      <td>2.052906e-01</td>\n",
       "      <td>0.205231</td>\n",
       "    </tr>\n",
       "    <tr>\n",
       "      <th rowspan=\"4\" valign=\"top\">7</th>\n",
       "      <th>Min</th>\n",
       "      <td>0.184820</td>\n",
       "      <td>0.214752</td>\n",
       "      <td>0.220373</td>\n",
       "      <td>2.203734e-01</td>\n",
       "      <td>0.220373</td>\n",
       "      <td>0.203900</td>\n",
       "      <td>2.040257e-01</td>\n",
       "      <td>0.203900</td>\n",
       "    </tr>\n",
       "    <tr>\n",
       "      <th>Max</th>\n",
       "      <td>0.246154</td>\n",
       "      <td>0.227994</td>\n",
       "      <td>0.222470</td>\n",
       "      <td>2.233517e-01</td>\n",
       "      <td>0.222848</td>\n",
       "      <td>0.204581</td>\n",
       "      <td>2.047043e-01</td>\n",
       "      <td>0.204729</td>\n",
       "    </tr>\n",
       "    <tr>\n",
       "      <th>Std</th>\n",
       "      <td>0.013801</td>\n",
       "      <td>0.003670</td>\n",
       "      <td>0.000785</td>\n",
       "      <td>9.011077e-04</td>\n",
       "      <td>0.000769</td>\n",
       "      <td>0.000181</td>\n",
       "      <td>1.905411e-04</td>\n",
       "      <td>0.000184</td>\n",
       "    </tr>\n",
       "    <tr>\n",
       "      <th>Mean</th>\n",
       "      <td>0.209872</td>\n",
       "      <td>0.218833</td>\n",
       "      <td>0.221575</td>\n",
       "      <td>2.214646e-01</td>\n",
       "      <td>0.221470</td>\n",
       "      <td>0.204274</td>\n",
       "      <td>2.043172e-01</td>\n",
       "      <td>0.204257</td>\n",
       "    </tr>\n",
       "    <tr>\n",
       "      <th rowspan=\"4\" valign=\"top\">8</th>\n",
       "      <th>Min</th>\n",
       "      <td>0.177162</td>\n",
       "      <td>0.214692</td>\n",
       "      <td>0.221933</td>\n",
       "      <td>2.218795e-01</td>\n",
       "      <td>0.221880</td>\n",
       "      <td>0.203415</td>\n",
       "      <td>2.034149e-01</td>\n",
       "      <td>0.203415</td>\n",
       "    </tr>\n",
       "    <tr>\n",
       "      <th>Max</th>\n",
       "      <td>14.514819</td>\n",
       "      <td>0.263244</td>\n",
       "      <td>0.222482</td>\n",
       "      <td>2.221792e-01</td>\n",
       "      <td>0.222482</td>\n",
       "      <td>0.204447</td>\n",
       "      <td>2.044474e-01</td>\n",
       "      <td>0.204447</td>\n",
       "    </tr>\n",
       "    <tr>\n",
       "      <th>Std</th>\n",
       "      <td>3.117286</td>\n",
       "      <td>0.010366</td>\n",
       "      <td>0.000188</td>\n",
       "      <td>7.520020e-05</td>\n",
       "      <td>0.000137</td>\n",
       "      <td>0.000447</td>\n",
       "      <td>4.883583e-04</td>\n",
       "      <td>0.000434</td>\n",
       "    </tr>\n",
       "    <tr>\n",
       "      <th>Mean</th>\n",
       "      <td>0.927078</td>\n",
       "      <td>0.220376</td>\n",
       "      <td>0.222099</td>\n",
       "      <td>2.220254e-01</td>\n",
       "      <td>0.222061</td>\n",
       "      <td>0.204002</td>\n",
       "      <td>2.039104e-01</td>\n",
       "      <td>0.203895</td>\n",
       "    </tr>\n",
       "    <tr>\n",
       "      <th rowspan=\"4\" valign=\"top\">9</th>\n",
       "      <th>Min</th>\n",
       "      <td>0.184482</td>\n",
       "      <td>0.214893</td>\n",
       "      <td>0.219791</td>\n",
       "      <td>2.205964e-01</td>\n",
       "      <td>0.219791</td>\n",
       "      <td>0.202351</td>\n",
       "      <td>2.024553e-01</td>\n",
       "      <td>0.201924</td>\n",
       "    </tr>\n",
       "    <tr>\n",
       "      <th>Max</th>\n",
       "      <td>0.341703</td>\n",
       "      <td>0.245087</td>\n",
       "      <td>0.223644</td>\n",
       "      <td>2.251200e-01</td>\n",
       "      <td>0.223887</td>\n",
       "      <td>0.203906</td>\n",
       "      <td>2.039065e-01</td>\n",
       "      <td>0.203906</td>\n",
       "    </tr>\n",
       "    <tr>\n",
       "      <th>Std</th>\n",
       "      <td>0.031508</td>\n",
       "      <td>0.006536</td>\n",
       "      <td>0.000977</td>\n",
       "      <td>9.813434e-04</td>\n",
       "      <td>0.001047</td>\n",
       "      <td>0.000398</td>\n",
       "      <td>4.711717e-04</td>\n",
       "      <td>0.000492</td>\n",
       "    </tr>\n",
       "    <tr>\n",
       "      <th>Mean</th>\n",
       "      <td>0.211527</td>\n",
       "      <td>0.219088</td>\n",
       "      <td>0.221606</td>\n",
       "      <td>2.218643e-01</td>\n",
       "      <td>0.221610</td>\n",
       "      <td>0.203052</td>\n",
       "      <td>2.032986e-01</td>\n",
       "      <td>0.203093</td>\n",
       "    </tr>\n",
       "    <tr>\n",
       "      <th rowspan=\"4\" valign=\"top\">10</th>\n",
       "      <th>Min</th>\n",
       "      <td>0.194483</td>\n",
       "      <td>0.212728</td>\n",
       "      <td>0.220972</td>\n",
       "      <td>2.205621e-01</td>\n",
       "      <td>0.221397</td>\n",
       "      <td>0.201879</td>\n",
       "      <td>2.024966e-01</td>\n",
       "      <td>0.202420</td>\n",
       "    </tr>\n",
       "    <tr>\n",
       "      <th>Max</th>\n",
       "      <td>0.219353</td>\n",
       "      <td>0.243624</td>\n",
       "      <td>0.225680</td>\n",
       "      <td>2.258767e-01</td>\n",
       "      <td>0.227119</td>\n",
       "      <td>0.204061</td>\n",
       "      <td>2.040606e-01</td>\n",
       "      <td>0.204061</td>\n",
       "    </tr>\n",
       "    <tr>\n",
       "      <th>Std</th>\n",
       "      <td>0.006813</td>\n",
       "      <td>0.006674</td>\n",
       "      <td>0.001372</td>\n",
       "      <td>1.195948e-03</td>\n",
       "      <td>0.001647</td>\n",
       "      <td>0.000562</td>\n",
       "      <td>4.408768e-04</td>\n",
       "      <td>0.000453</td>\n",
       "    </tr>\n",
       "    <tr>\n",
       "      <th>Mean</th>\n",
       "      <td>0.207864</td>\n",
       "      <td>0.219330</td>\n",
       "      <td>0.222542</td>\n",
       "      <td>2.223519e-01</td>\n",
       "      <td>0.223318</td>\n",
       "      <td>0.203112</td>\n",
       "      <td>2.035182e-01</td>\n",
       "      <td>0.203268</td>\n",
       "    </tr>\n",
       "  </tbody>\n",
       "</table>\n",
       "</div>"
      ],
      "text/plain": [
       "                                pyFume             test_custom                \\\n",
       "                          train_pyFume test_pyFume       q_0.2         q_0.4   \n",
       "n_sets statistic_measures                                                      \n",
       "2      Min                    0.190334    0.220855    0.220846  2.208354e-01   \n",
       "       Max                    0.228402    0.222151    0.221092  2.210915e-01   \n",
       "       Std                    0.008754    0.000368    0.000053  5.366673e-05   \n",
       "       Mean                   0.208881    0.221612    0.220858  2.208578e-01   \n",
       "3      Min                    0.185669    0.220621    0.219904  2.199038e-01   \n",
       "       Max                    0.223902    0.222152    0.219970  2.199699e-01   \n",
       "       Std                    0.010137    0.000378    0.000032  3.235729e-05   \n",
       "       Mean                   0.207419    0.221509    0.219930  2.199302e-01   \n",
       "4      Min                    0.183946    0.218508    0.218524  2.185244e-01   \n",
       "       Max                    0.225969    0.222438    0.218670  2.185244e-01   \n",
       "       Std                    0.011635    0.000923    0.000032  2.775558e-17   \n",
       "       Mean                   0.209857    0.220260    0.218532  2.185244e-01   \n",
       "5      Min                    0.186807    0.217730    0.217798  2.177983e-01   \n",
       "       Max                    0.226175    0.221652    0.220033  2.201375e-01   \n",
       "       Std                    0.011454    0.000978    0.000785  7.082101e-04   \n",
       "       Mean                   0.204708    0.218922    0.218873  2.193209e-01   \n",
       "6      Min                    0.178773    0.216658    0.217663  2.176631e-01   \n",
       "       Max                    0.241952    0.220355    0.220747  2.207474e-01   \n",
       "       Std                    0.013910    0.001020    0.001052  1.057408e-03   \n",
       "       Mean                   0.209563    0.218721    0.218841  2.189571e-01   \n",
       "7      Min                    0.184820    0.214752    0.220373  2.203734e-01   \n",
       "       Max                    0.246154    0.227994    0.222470  2.233517e-01   \n",
       "       Std                    0.013801    0.003670    0.000785  9.011077e-04   \n",
       "       Mean                   0.209872    0.218833    0.221575  2.214646e-01   \n",
       "8      Min                    0.177162    0.214692    0.221933  2.218795e-01   \n",
       "       Max                   14.514819    0.263244    0.222482  2.221792e-01   \n",
       "       Std                    3.117286    0.010366    0.000188  7.520020e-05   \n",
       "       Mean                   0.927078    0.220376    0.222099  2.220254e-01   \n",
       "9      Min                    0.184482    0.214893    0.219791  2.205964e-01   \n",
       "       Max                    0.341703    0.245087    0.223644  2.251200e-01   \n",
       "       Std                    0.031508    0.006536    0.000977  9.813434e-04   \n",
       "       Mean                   0.211527    0.219088    0.221606  2.218643e-01   \n",
       "10     Min                    0.194483    0.212728    0.220972  2.205621e-01   \n",
       "       Max                    0.219353    0.243624    0.225680  2.258767e-01   \n",
       "       Std                    0.006813    0.006674    0.001372  1.195948e-03   \n",
       "       Mean                   0.207864    0.219330    0.222542  2.223519e-01   \n",
       "\n",
       "                                    train_custom                          \n",
       "                              q_0.6        q_0.2         q_0.4     q_0.6  \n",
       "n_sets statistic_measures                                                 \n",
       "2      Min                 0.220835     0.208826  2.088259e-01  0.208765  \n",
       "       Max                 0.221514     0.208842  2.088485e-01  0.208881  \n",
       "       Std                 0.000197     0.000003  3.810409e-06  0.000020  \n",
       "       Mean                0.220936     0.208841  2.088412e-01  0.208838  \n",
       "3      Min                 0.219904     0.207530  2.075296e-01  0.207530  \n",
       "       Max                 0.219970     0.207648  2.076476e-01  0.207648  \n",
       "       Std                 0.000032     0.000058  5.782320e-05  0.000056  \n",
       "       Mean                0.219927     0.207577  2.075768e-01  0.207571  \n",
       "4      Min                 0.218379     0.206369  2.065190e-01  0.206354  \n",
       "       Max                 0.218524     0.206519  2.065190e-01  0.206519  \n",
       "       Std                 0.000032     0.000033  2.775558e-17  0.000036  \n",
       "       Mean                0.218517     0.206512  2.065190e-01  0.206511  \n",
       "5      Min                 0.215813     0.204797  2.047968e-01  0.204608  \n",
       "       Max                 0.220033     0.206225  2.062252e-01  0.206225  \n",
       "       Std                 0.001034     0.000391  2.917145e-04  0.000433  \n",
       "       Mean                0.218950     0.205532  2.057409e-01  0.205546  \n",
       "6      Min                 0.217610     0.205051  2.049549e-01  0.204955  \n",
       "       Max                 0.221178     0.205555  2.058702e-01  0.205714  \n",
       "       Std                 0.000978     0.000152  1.905308e-04  0.000165  \n",
       "       Mean                0.218722     0.205200  2.052906e-01  0.205231  \n",
       "7      Min                 0.220373     0.203900  2.040257e-01  0.203900  \n",
       "       Max                 0.222848     0.204581  2.047043e-01  0.204729  \n",
       "       Std                 0.000769     0.000181  1.905411e-04  0.000184  \n",
       "       Mean                0.221470     0.204274  2.043172e-01  0.204257  \n",
       "8      Min                 0.221880     0.203415  2.034149e-01  0.203415  \n",
       "       Max                 0.222482     0.204447  2.044474e-01  0.204447  \n",
       "       Std                 0.000137     0.000447  4.883583e-04  0.000434  \n",
       "       Mean                0.222061     0.204002  2.039104e-01  0.203895  \n",
       "9      Min                 0.219791     0.202351  2.024553e-01  0.201924  \n",
       "       Max                 0.223887     0.203906  2.039065e-01  0.203906  \n",
       "       Std                 0.001047     0.000398  4.711717e-04  0.000492  \n",
       "       Mean                0.221610     0.203052  2.032986e-01  0.203093  \n",
       "10     Min                 0.221397     0.201879  2.024966e-01  0.202420  \n",
       "       Max                 0.227119     0.204061  2.040606e-01  0.204061  \n",
       "       Std                 0.001647     0.000562  4.408768e-04  0.000453  \n",
       "       Mean                0.223318     0.203112  2.035182e-01  0.203268  "
      ]
     },
     "execution_count": 14,
     "metadata": {},
     "output_type": "execute_result"
    }
   ],
   "source": [
    "results = pd.DataFrame(log)\n",
    "print(f\"Runtime for custom implementation: {custom_timer:.4f} s\")\n",
    "print(f\"Runtime for pyFume implementation: {pyfume_timer:.4f} s\")\n",
    "print(f\"Number of runs per parameterset: {n_runs}\")\n",
    "results[[\"pyFume\", \"test_custom\", \"train_custom\"]].set_index(pd.MultiIndex.from_frame(results[\"labels\"]))"
   ]
  },
  {
   "cell_type": "code",
   "execution_count": 15,
   "metadata": {},
   "outputs": [],
   "source": [
    "results[[\"pyFume\", \"test_custom\", \"train_custom\"]].set_index(pd.MultiIndex.from_frame(results[\"labels\"])).to_csv(\"first_results.csv\", float_format=\"%.5f\")\n",
    "results.to_csv(\"first_results_raw.csv\")"
   ]
  },
  {
   "cell_type": "code",
   "execution_count": 16,
   "metadata": {},
   "outputs": [
    {
     "data": {
      "text/plain": [
       "array([('pyFume', 'train_pyFume'), ('pyFume', 'test_pyFume'),\n",
       "       ('test_custom', 'q_0.2'), ('test_custom', 'q_0.4'),\n",
       "       ('test_custom', 'q_0.6'), ('train_custom', 'q_0.2'),\n",
       "       ('train_custom', 'q_0.4'), ('train_custom', 'q_0.6')], dtype=object)"
      ]
     },
     "execution_count": 16,
     "metadata": {},
     "output_type": "execute_result"
    }
   ],
   "source": [
    "results[[\"pyFume\", \"test_custom\", \"train_custom\"]].columns.to_numpy()"
   ]
  },
  {
   "cell_type": "code",
   "execution_count": 17,
   "metadata": {},
   "outputs": [],
   "source": [
    "results = pd.read_csv(\"first_results.csv\")"
   ]
  },
  {
   "cell_type": "code",
   "execution_count": 18,
   "metadata": {},
   "outputs": [
    {
     "ename": "KeyError",
     "evalue": "'labels'",
     "output_type": "error",
     "traceback": [
      "\u001b[1;31m---------------------------------------------------------------------------\u001b[0m",
      "\u001b[1;31mKeyError\u001b[0m                                  Traceback (most recent call last)",
      "File \u001b[1;32mc:\\Users\\b-mor\\ACIT4620_XAI_with_ANFIS\\anfis_env\\lib\\site-packages\\pandas\\core\\indexes\\base.py:3790\u001b[0m, in \u001b[0;36mIndex.get_loc\u001b[1;34m(self, key)\u001b[0m\n\u001b[0;32m   3789\u001b[0m \u001b[39mtry\u001b[39;00m:\n\u001b[1;32m-> 3790\u001b[0m     \u001b[39mreturn\u001b[39;00m \u001b[39mself\u001b[39;49m\u001b[39m.\u001b[39;49m_engine\u001b[39m.\u001b[39;49mget_loc(casted_key)\n\u001b[0;32m   3791\u001b[0m \u001b[39mexcept\u001b[39;00m \u001b[39mKeyError\u001b[39;00m \u001b[39mas\u001b[39;00m err:\n",
      "File \u001b[1;32mindex.pyx:152\u001b[0m, in \u001b[0;36mpandas._libs.index.IndexEngine.get_loc\u001b[1;34m()\u001b[0m\n",
      "File \u001b[1;32mindex.pyx:181\u001b[0m, in \u001b[0;36mpandas._libs.index.IndexEngine.get_loc\u001b[1;34m()\u001b[0m\n",
      "File \u001b[1;32mpandas\\_libs\\hashtable_class_helper.pxi:7080\u001b[0m, in \u001b[0;36mpandas._libs.hashtable.PyObjectHashTable.get_item\u001b[1;34m()\u001b[0m\n",
      "File \u001b[1;32mpandas\\_libs\\hashtable_class_helper.pxi:7088\u001b[0m, in \u001b[0;36mpandas._libs.hashtable.PyObjectHashTable.get_item\u001b[1;34m()\u001b[0m\n",
      "\u001b[1;31mKeyError\u001b[0m: 'labels'",
      "\nThe above exception was the direct cause of the following exception:\n",
      "\u001b[1;31mKeyError\u001b[0m                                  Traceback (most recent call last)",
      "\u001b[1;32mc:\\Users\\b-mor\\ACIT4620_XAI_with_ANFIS\\evaluation.ipynb Cell 23\u001b[0m line \u001b[0;36m2\n\u001b[0;32m      <a href='vscode-notebook-cell:/c%3A/Users/b-mor/ACIT4620_XAI_with_ANFIS/evaluation.ipynb#X46sZmlsZQ%3D%3D?line=0'>1</a>\u001b[0m fig, axes \u001b[39m=\u001b[39m plt\u001b[39m.\u001b[39msubplots(\u001b[39m2\u001b[39m,\u001b[39m2\u001b[39m, figsize\u001b[39m=\u001b[39m(\u001b[39m16\u001b[39m, \u001b[39m16\u001b[39m))\n\u001b[1;32m----> <a href='vscode-notebook-cell:/c%3A/Users/b-mor/ACIT4620_XAI_with_ANFIS/evaluation.ipynb#X46sZmlsZQ%3D%3D?line=1'>2</a>\u001b[0m measure_list \u001b[39m=\u001b[39m results[\u001b[39m\"\u001b[39;49m\u001b[39mlabels\u001b[39;49m\u001b[39m\"\u001b[39;49m][\u001b[39m\"\u001b[39m\u001b[39mstatistic_measures\u001b[39m\u001b[39m\"\u001b[39m]\u001b[39m.\u001b[39munique()\n\u001b[0;32m      <a href='vscode-notebook-cell:/c%3A/Users/b-mor/ACIT4620_XAI_with_ANFIS/evaluation.ipynb#X46sZmlsZQ%3D%3D?line=2'>3</a>\u001b[0m \u001b[39mfor\u001b[39;00m i, measure_label \u001b[39min\u001b[39;00m \u001b[39menumerate\u001b[39m(measure_list):\n\u001b[0;32m      <a href='vscode-notebook-cell:/c%3A/Users/b-mor/ACIT4620_XAI_with_ANFIS/evaluation.ipynb#X46sZmlsZQ%3D%3D?line=3'>4</a>\u001b[0m     cur_axis \u001b[39m=\u001b[39m axes[\u001b[39mint\u001b[39m(i\u001b[39m/\u001b[39m(\u001b[39mlen\u001b[39m(measure_list)\u001b[39m/\u001b[39m\u001b[39m2\u001b[39m)),\u001b[39mint\u001b[39m(i\u001b[39m%\u001b[39m(\u001b[39mlen\u001b[39m(measure_list)\u001b[39m/\u001b[39m\u001b[39m2\u001b[39m))]\n",
      "File \u001b[1;32mc:\\Users\\b-mor\\ACIT4620_XAI_with_ANFIS\\anfis_env\\lib\\site-packages\\pandas\\core\\frame.py:3893\u001b[0m, in \u001b[0;36mDataFrame.__getitem__\u001b[1;34m(self, key)\u001b[0m\n\u001b[0;32m   3891\u001b[0m \u001b[39mif\u001b[39;00m \u001b[39mself\u001b[39m\u001b[39m.\u001b[39mcolumns\u001b[39m.\u001b[39mnlevels \u001b[39m>\u001b[39m \u001b[39m1\u001b[39m:\n\u001b[0;32m   3892\u001b[0m     \u001b[39mreturn\u001b[39;00m \u001b[39mself\u001b[39m\u001b[39m.\u001b[39m_getitem_multilevel(key)\n\u001b[1;32m-> 3893\u001b[0m indexer \u001b[39m=\u001b[39m \u001b[39mself\u001b[39;49m\u001b[39m.\u001b[39;49mcolumns\u001b[39m.\u001b[39;49mget_loc(key)\n\u001b[0;32m   3894\u001b[0m \u001b[39mif\u001b[39;00m is_integer(indexer):\n\u001b[0;32m   3895\u001b[0m     indexer \u001b[39m=\u001b[39m [indexer]\n",
      "File \u001b[1;32mc:\\Users\\b-mor\\ACIT4620_XAI_with_ANFIS\\anfis_env\\lib\\site-packages\\pandas\\core\\indexes\\base.py:3797\u001b[0m, in \u001b[0;36mIndex.get_loc\u001b[1;34m(self, key)\u001b[0m\n\u001b[0;32m   3792\u001b[0m     \u001b[39mif\u001b[39;00m \u001b[39misinstance\u001b[39m(casted_key, \u001b[39mslice\u001b[39m) \u001b[39mor\u001b[39;00m (\n\u001b[0;32m   3793\u001b[0m         \u001b[39misinstance\u001b[39m(casted_key, abc\u001b[39m.\u001b[39mIterable)\n\u001b[0;32m   3794\u001b[0m         \u001b[39mand\u001b[39;00m \u001b[39many\u001b[39m(\u001b[39misinstance\u001b[39m(x, \u001b[39mslice\u001b[39m) \u001b[39mfor\u001b[39;00m x \u001b[39min\u001b[39;00m casted_key)\n\u001b[0;32m   3795\u001b[0m     ):\n\u001b[0;32m   3796\u001b[0m         \u001b[39mraise\u001b[39;00m InvalidIndexError(key)\n\u001b[1;32m-> 3797\u001b[0m     \u001b[39mraise\u001b[39;00m \u001b[39mKeyError\u001b[39;00m(key) \u001b[39mfrom\u001b[39;00m \u001b[39merr\u001b[39;00m\n\u001b[0;32m   3798\u001b[0m \u001b[39mexcept\u001b[39;00m \u001b[39mTypeError\u001b[39;00m:\n\u001b[0;32m   3799\u001b[0m     \u001b[39m# If we have a listlike key, _check_indexing_error will raise\u001b[39;00m\n\u001b[0;32m   3800\u001b[0m     \u001b[39m#  InvalidIndexError. Otherwise we fall through and re-raise\u001b[39;00m\n\u001b[0;32m   3801\u001b[0m     \u001b[39m#  the TypeError.\u001b[39;00m\n\u001b[0;32m   3802\u001b[0m     \u001b[39mself\u001b[39m\u001b[39m.\u001b[39m_check_indexing_error(key)\n",
      "\u001b[1;31mKeyError\u001b[0m: 'labels'"
     ]
    },
    {
     "data": {
      "image/png": "[encoded data removed]",
      "text/plain": [
       "<Figure size 1600x1600 with 4 Axes>"
      ]
     },
     "metadata": {},
     "output_type": "display_data"
    }
   ],
   "source": [
    "fig, axes = plt.subplots(2,2, figsize=(16, 16))\n",
    "measure_list = results[\"labels\"][\"statistic_measures\"].unique()\n",
    "for i, measure_label in enumerate(measure_list):\n",
    "    cur_axis = axes[int(i/(len(measure_list)/2)),int(i%(len(measure_list)/2))]\n",
    "    cur_axis.set_title(f\"{measure_label} RMSE for a given number of sets\")\n",
    "    cur_axis.set_xlabel(f\"Number of fuzzy sets\")\n",
    "    cur_axis.set_ylabel(f\"{measure_label} RMSE\")\n",
    "    for parent, column in results[[\"pyFume\", \"test_custom\", \"train_custom\"]].columns.to_numpy():\n",
    "        cur_y = results[results[\"labels\"][\"statistic_measures\"] == measure_label][parent][column]\n",
    "        cur_x = results[results[\"labels\"][\"statistic_measures\"] == measure_label][\"labels\"][\"n_sets\"]\n",
    "        cur_axis.plot(cur_x, cur_y, label=f\"{parent}_{column}\")\n",
    "\n",
    "    cur_axis.legend()"
   ]
  },
  {
   "cell_type": "code",
   "execution_count": null,
   "metadata": {},
   "outputs": [],
   "source": []
  }
 ],
 "metadata": {
  "kernelspec": {
   "display_name": "anfis_env",
   "language": "python",
   "name": "python3"
  },
  "language_info": {
   "codemirror_mode": {
    "name": "ipython",
    "version": 3
   },
   "file_extension": ".py",
   "mimetype": "text/x-python",
   "name": "python",
   "nbconvert_exporter": "python",
   "pygments_lexer": "ipython3",
   "version": "3.9.13"
  }
 },
 "nbformat": 4,
 "nbformat_minor": 2
}
